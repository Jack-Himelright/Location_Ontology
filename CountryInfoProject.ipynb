{
 "cells": [
  {
   "cell_type": "code",
   "execution_count": 1,
   "id": "e06c33c7-0eab-415e-b871-5b8dbe5b8950",
   "metadata": {},
   "outputs": [
    {
     "name": "stdout",
     "output_type": "stream",
     "text": [
      "Python 3.11.5\n"
     ]
    }
   ],
   "source": [
    "!python --version"
   ]
  },
  {
   "cell_type": "code",
   "execution_count": 2,
   "id": "7c7be73b-39b2-4d15-aeb4-f42c9db84441",
   "metadata": {},
   "outputs": [],
   "source": [
    "import pandas as pd"
   ]
  },
  {
   "cell_type": "code",
   "execution_count": 3,
   "id": "8d437577-9d17-451b-b197-262be1671f4b",
   "metadata": {},
   "outputs": [],
   "source": [
    "# This notebook reads a file about data about countries, removes the unnecessary information, and puts the rest into RDF triples"
   ]
  },
  {
   "cell_type": "markdown",
   "id": "641336dd-5298-4020-a1e7-ca996718c6be",
   "metadata": {},
   "source": [
    "1. read file\n",
    "2. put the data in a dictionary with column names as keys and list as values\n",
    "3. clean the data\n",
    "4. put the data in a pandas dataframe\n",
    "5. export the dataframe to csv\n",
    "6. validate the csv\n",
    "7.  read the validated csv with pandas\n",
    "8. create OWL axioms with f-strings in python\n",
    "9. export the axioms to a txt file\n",
    "10. import the txt file into Protege"
   ]
  },
  {
   "cell_type": "code",
   "execution_count": null,
   "id": "ffa8581e-4375-46c1-8425-98a9ff079914",
   "metadata": {},
   "outputs": [],
   "source": []
  },
  {
   "cell_type": "code",
   "execution_count": null,
   "id": "92aadc67-a4ce-465c-be48-c654cb2dc058",
   "metadata": {},
   "outputs": [],
   "source": []
  },
  {
   "cell_type": "code",
   "execution_count": null,
   "id": "64ec8045-4bdd-437d-9f67-0e1269af0eec",
   "metadata": {},
   "outputs": [],
   "source": []
  },
  {
   "cell_type": "code",
   "execution_count": 4,
   "id": "ef410af5-13db-4e4b-8e03-c4d147d1afcc",
   "metadata": {},
   "outputs": [],
   "source": [
    "# Location of the file\n",
    "filepath:str = r\"C:\\Users\\inser\\OneDrive\\Industry\\OntologyExercises\\CountryInfo.txt\"\n",
    "# Open file, read every line, and put the content in a list of rows\n",
    "with open(filepath) as CountryInfo_handle:\n",
    "   lines = CountryInfo_handle.readlines()"
   ]
  },
  {
   "cell_type": "code",
   "execution_count": 5,
   "id": "eb5c3cca-b694-41ab-9286-68d9f8590f3c",
   "metadata": {},
   "outputs": [
    {
     "data": {
      "text/plain": [
       "['ISO\\tISO3\\tISO-Numeric\\tfips\\tCountry\\tCapital\\tArea(in sq km)\\tPopulation\\tContinent\\ttld\\tCurrencyCode\\tCurrencyName\\tPhone\\tPostal Code Format\\tPostal Code Regex\\tLanguages\\tgeonameid\\tneighbours\\tEquivalentFipsCode\\n',\n",
       " 'AD\\tAND\\t020\\tAN\\tAndorra\\tAndorra la Vella\\t468\\t77006\\tEU\\t.ad\\tEUR\\tEuro\\t376\\tAD###\\t^(?:AD)*(\\\\d{3})$\\tca\\t3041565\\tES,FR\\t\\n']"
      ]
     },
     "execution_count": 5,
     "metadata": {},
     "output_type": "execute_result"
    }
   ],
   "source": [
    "# Checks the first two lines of the generated list\n",
    "lines[:2]"
   ]
  },
  {
   "cell_type": "code",
   "execution_count": 6,
   "id": "4e610e33-d9bf-4182-88fb-ec42baf8915e",
   "metadata": {},
   "outputs": [],
   "source": [
    "# Creates an empty dictionary that we can fill with keys\n",
    "countryInfoDictionary:dict = {}"
   ]
  },
  {
   "cell_type": "code",
   "execution_count": 7,
   "id": "b5832e49-4ea2-494f-addc-058a0560afd6",
   "metadata": {},
   "outputs": [],
   "source": [
    "# Splits the first row of the \"lines\" list into multiple strings, using list comprehension\n",
    "columns:list = [column.strip() for column in lines[0].split(\"\\t\")]"
   ]
  },
  {
   "cell_type": "code",
   "execution_count": 8,
   "id": "86c2bc18-cd17-4252-b34d-7ad2853e8584",
   "metadata": {
    "scrolled": true
   },
   "outputs": [
    {
     "data": {
      "text/plain": [
       "['ISO',\n",
       " 'ISO3',\n",
       " 'ISO-Numeric',\n",
       " 'fips',\n",
       " 'Country',\n",
       " 'Capital',\n",
       " 'Area(in sq km)',\n",
       " 'Population',\n",
       " 'Continent',\n",
       " 'tld',\n",
       " 'CurrencyCode',\n",
       " 'CurrencyName',\n",
       " 'Phone',\n",
       " 'Postal Code Format',\n",
       " 'Postal Code Regex',\n",
       " 'Languages',\n",
       " 'geonameid',\n",
       " 'neighbours',\n",
       " 'EquivalentFipsCode']"
      ]
     },
     "execution_count": 8,
     "metadata": {},
     "output_type": "execute_result"
    }
   ],
   "source": [
    "# Checks the entries in the columns list\n",
    "columns"
   ]
  },
  {
   "cell_type": "code",
   "execution_count": 9,
   "id": "1cee8278-8649-4cb9-bd6b-ecc13ca074ae",
   "metadata": {},
   "outputs": [
    {
     "data": {
      "text/plain": [
       "{'ISO': [],\n",
       " 'ISO3': [],\n",
       " 'ISO-Numeric': [],\n",
       " 'fips': [],\n",
       " 'Country': [],\n",
       " 'Capital': [],\n",
       " 'Area(in sq km)': [],\n",
       " 'Population': [],\n",
       " 'Continent': [],\n",
       " 'tld': [],\n",
       " 'CurrencyCode': [],\n",
       " 'CurrencyName': [],\n",
       " 'Phone': [],\n",
       " 'Postal Code Format': [],\n",
       " 'Postal Code Regex': [],\n",
       " 'Languages': [],\n",
       " 'geonameid': [],\n",
       " 'neighbours': [],\n",
       " 'EquivalentFipsCode': []}"
      ]
     },
     "execution_count": 9,
     "metadata": {},
     "output_type": "execute_result"
    }
   ],
   "source": [
    "# Adds the entries in the columns list as keys for the dictionary we created\n",
    "countryInfoDictionary = {column:[] for column in columns }\n",
    "countryInfoDictionary"
   ]
  },
  {
   "cell_type": "code",
   "execution_count": 10,
   "id": "ccf47d51-0899-4d1f-97f3-4ea7c11d28f9",
   "metadata": {},
   "outputs": [
    {
     "name": "stdout",
     "output_type": "stream",
     "text": [
      "['AD', 'AND', '020', 'AN', 'Andorra', 'Andorra la Vella', '468', '77006', 'EU', '.ad', 'EUR', 'Euro', '376', 'AD###', '^(?:AD)*(\\\\d{3})$', 'ca', '3041565', 'ES,FR', '']\n"
     ]
    }
   ],
   "source": [
    "# Prints the entries in the list generated earlier for the first two rows after the column headers, splitting at the tab\n",
    "for line in lines[1:2]:\n",
    "    values:list = [value.strip() for value in line.split(\"\\t\")]\n",
    "    print(values)"
   ]
  },
  {
   "cell_type": "code",
   "execution_count": 11,
   "id": "62adeafe-0311-4edb-bc10-e51669d3b4e2",
   "metadata": {},
   "outputs": [
    {
     "name": "stdout",
     "output_type": "stream",
     "text": [
      "{'ISO': ['AD', 'AE', 'AF', 'AG', 'AI', 'AL', 'AM', 'AO', 'AQ', 'AR', 'AS', 'AT', 'AU', 'AW', 'AX', 'AZ', 'BA', 'BB', 'BD', 'BE', 'BF', 'BG', 'BH', 'BI', 'BJ', 'BL', 'BM', 'BN', 'BO', 'BQ', 'BR', 'BS', 'BT', 'BV', 'BW', 'BY', 'BZ', 'CA', 'CC', 'CD', 'CF', 'CG', 'CH', 'CI', 'CK', 'CL', 'CM', 'CN', 'CO', 'CR', 'CU', 'CV', 'CW', 'CX', 'CY', 'CZ', 'DE', 'DJ', 'DK', 'DM', 'DO', 'DZ', 'EC', 'EE', 'EG', 'EH', 'ER', 'ES', 'ET', 'FI', 'FJ', 'FK', 'FM', 'FO', 'FR', 'GA', 'GB', 'GD', 'GE', 'GF', 'GG', 'GH', 'GI', 'GL', 'GM', 'GN', 'GP', 'GQ', 'GR', 'GS', 'GT', 'GU', 'GW', 'GY', 'HK', 'HM', 'HN', 'HR', 'HT', 'HU', 'ID', 'IE', 'IL', 'IM', 'IN', 'IO', 'IQ', 'IR', 'IS', 'IT', 'JE', 'JM', 'JO', 'JP', 'KE', 'KG', 'KH', 'KI', 'KM', 'KN', 'KP', 'KR', 'XK', 'KW', 'KY', 'KZ', 'LA', 'LB', 'LC', 'LI', 'LK', 'LR', 'LS', 'LT', 'LU', 'LV', 'LY', 'MA', 'MC', 'MD', 'ME', 'MF', 'MG', 'MH', 'MK', 'ML', 'MM', 'MN', 'MO', 'MP', 'MQ', 'MR', 'MS', 'MT', 'MU', 'MV', 'MW', 'MX', 'MY', 'MZ', 'NA', 'NC', 'NE', 'NF', 'NG', 'NI', 'NL', 'NO', 'NP', 'NR', 'NU', 'NZ', 'OM', 'PA', 'PE', 'PF', 'PG', 'PH', 'PK', 'PL', 'PM', 'PN', 'PR', 'PS', 'PT', 'PW', 'PY', 'QA', 'RE', 'RO', 'RS', 'RU', 'RW', 'SA', 'SB', 'SC', 'SD', 'SS', 'SE', 'SG', 'SH', 'SI', 'SJ', 'SK', 'SL', 'SM', 'SN', 'SO', 'SR', 'ST', 'SV', 'SX', 'SY', 'SZ', 'TC', 'TD', 'TF', 'TG', 'TH', 'TJ', 'TK', 'TL', 'TM', 'TN', 'TO', 'TR', 'TT', 'TV', 'TW', 'TZ', 'UA', 'UG', 'UM', 'US', 'UY', 'UZ', 'VA', 'VC', 'VE', 'VG', 'VI', 'VN', 'VU', 'WF', 'WS', 'YE', 'YT', 'ZA', 'ZM', 'ZW', 'CS', 'AN'], 'ISO3': ['AND', 'ARE', 'AFG', 'ATG', 'AIA', 'ALB', 'ARM', 'AGO', 'ATA', 'ARG', 'ASM', 'AUT', 'AUS', 'ABW', 'ALA', 'AZE', 'BIH', 'BRB', 'BGD', 'BEL', 'BFA', 'BGR', 'BHR', 'BDI', 'BEN', 'BLM', 'BMU', 'BRN', 'BOL', 'BES', 'BRA', 'BHS', 'BTN', 'BVT', 'BWA', 'BLR', 'BLZ', 'CAN', 'CCK', 'COD', 'CAF', 'COG', 'CHE', 'CIV', 'COK', 'CHL', 'CMR', 'CHN', 'COL', 'CRI', 'CUB', 'CPV', 'CUW', 'CXR', 'CYP', 'CZE', 'DEU', 'DJI', 'DNK', 'DMA', 'DOM', 'DZA', 'ECU', 'EST', 'EGY', 'ESH', 'ERI', 'ESP', 'ETH', 'FIN', 'FJI', 'FLK', 'FSM', 'FRO', 'FRA', 'GAB', 'GBR', 'GRD', 'GEO', 'GUF', 'GGY', 'GHA', 'GIB', 'GRL', 'GMB', 'GIN', 'GLP', 'GNQ', 'GRC', 'SGS', 'GTM', 'GUM', 'GNB', 'GUY', 'HKG', 'HMD', 'HND', 'HRV', 'HTI', 'HUN', 'IDN', 'IRL', 'ISR', 'IMN', 'IND', 'IOT', 'IRQ', 'IRN', 'ISL', 'ITA', 'JEY', 'JAM', 'JOR', 'JPN', 'KEN', 'KGZ', 'KHM', 'KIR', 'COM', 'KNA', 'PRK', 'KOR', 'XKX', 'KWT', 'CYM', 'KAZ', 'LAO', 'LBN', 'LCA', 'LIE', 'LKA', 'LBR', 'LSO', 'LTU', 'LUX', 'LVA', 'LBY', 'MAR', 'MCO', 'MDA', 'MNE', 'MAF', 'MDG', 'MHL', 'MKD', 'MLI', 'MMR', 'MNG', 'MAC', 'MNP', 'MTQ', 'MRT', 'MSR', 'MLT', 'MUS', 'MDV', 'MWI', 'MEX', 'MYS', 'MOZ', 'NAM', 'NCL', 'NER', 'NFK', 'NGA', 'NIC', 'NLD', 'NOR', 'NPL', 'NRU', 'NIU', 'NZL', 'OMN', 'PAN', 'PER', 'PYF', 'PNG', 'PHL', 'PAK', 'POL', 'SPM', 'PCN', 'PRI', 'PSE', 'PRT', 'PLW', 'PRY', 'QAT', 'REU', 'ROU', 'SRB', 'RUS', 'RWA', 'SAU', 'SLB', 'SYC', 'SDN', 'SSD', 'SWE', 'SGP', 'SHN', 'SVN', 'SJM', 'SVK', 'SLE', 'SMR', 'SEN', 'SOM', 'SUR', 'STP', 'SLV', 'SXM', 'SYR', 'SWZ', 'TCA', 'TCD', 'ATF', 'TGO', 'THA', 'TJK', 'TKL', 'TLS', 'TKM', 'TUN', 'TON', 'TUR', 'TTO', 'TUV', 'TWN', 'TZA', 'UKR', 'UGA', 'UMI', 'USA', 'URY', 'UZB', 'VAT', 'VCT', 'VEN', 'VGB', 'VIR', 'VNM', 'VUT', 'WLF', 'WSM', 'YEM', 'MYT', 'ZAF', 'ZMB', 'ZWE', 'SCG', 'ANT'], 'ISO-Numeric': ['020', '784', '004', '028', '660', '008', '051', '024', '010', '032', '016', '040', '036', '533', '248', '031', '070', '052', '050', '056', '854', '100', '048', '108', '204', '652', '060', '096', '068', '535', '076', '044', '064', '074', '072', '112', '084', '124', '166', '180', '140', '178', '756', '384', '184', '152', '120', '156', '170', '188', '192', '132', '531', '162', '196', '203', '276', '262', '208', '212', '214', '012', '218', '233', '818', '732', '232', '724', '231', '246', '242', '238', '583', '234', '250', '266', '826', '308', '268', '254', '831', '288', '292', '304', '270', '324', '312', '226', '300', '239', '320', '316', '624', '328', '344', '334', '340', '191', '332', '348', '360', '372', '376', '833', '356', '086', '368', '364', '352', '380', '832', '388', '400', '392', '404', '417', '116', '296', '174', '659', '408', '410', '0', '414', '136', '398', '418', '422', '662', '438', '144', '430', '426', '440', '442', '428', '434', '504', '492', '498', '499', '663', '450', '584', '807', '466', '104', '496', '446', '580', '474', '478', '500', '470', '480', '462', '454', '484', '458', '508', '516', '540', '562', '574', '566', '558', '528', '578', '524', '520', '570', '554', '512', '591', '604', '258', '598', '608', '586', '616', '666', '612', '630', '275', '620', '585', '600', '634', '638', '642', '688', '643', '646', '682', '090', '690', '729', '728', '752', '702', '654', '705', '744', '703', '694', '674', '686', '706', '740', '678', '222', '534', '760', '748', '796', '148', '260', '768', '764', '762', '772', '626', '795', '788', '776', '792', '780', '798', '158', '834', '804', '800', '581', '840', '858', '860', '336', '670', '862', '092', '850', '704', '548', '876', '882', '887', '175', '710', '894', '716', '891', '530'], 'fips': ['AN', 'AE', 'AF', 'AC', 'AV', 'AL', 'AM', 'AO', 'AY', 'AR', 'AQ', 'AU', 'AS', 'AA', '', 'AJ', 'BK', 'BB', 'BG', 'BE', 'UV', 'BU', 'BA', 'BY', 'BN', 'TB', 'BD', 'BX', 'BL', '', 'BR', 'BF', 'BT', 'BV', 'BC', 'BO', 'BH', 'CA', 'CK', 'CG', 'CT', 'CF', 'SZ', 'IV', 'CW', 'CI', 'CM', 'CH', 'CO', 'CS', 'CU', 'CV', 'UC', 'KT', 'CY', 'EZ', 'GM', 'DJ', 'DA', 'DO', 'DR', 'AG', 'EC', 'EN', 'EG', 'WI', 'ER', 'SP', 'ET', 'FI', 'FJ', 'FK', 'FM', 'FO', 'FR', 'GB', 'UK', 'GJ', 'GG', 'FG', 'GK', 'GH', 'GI', 'GL', 'GA', 'GV', 'GP', 'EK', 'GR', 'SX', 'GT', 'GQ', 'PU', 'GY', 'HK', 'HM', 'HO', 'HR', 'HA', 'HU', 'ID', 'EI', 'IS', 'IM', 'IN', 'IO', 'IZ', 'IR', 'IC', 'IT', 'JE', 'JM', 'JO', 'JA', 'KE', 'KG', 'CB', 'KR', 'CN', 'SC', 'KN', 'KS', 'KV', 'KU', 'CJ', 'KZ', 'LA', 'LE', 'ST', 'LS', 'CE', 'LI', 'LT', 'LH', 'LU', 'LG', 'LY', 'MO', 'MN', 'MD', 'MJ', 'RN', 'MA', 'RM', 'MK', 'ML', 'BM', 'MG', 'MC', 'CQ', 'MB', 'MR', 'MH', 'MT', 'MP', 'MV', 'MI', 'MX', 'MY', 'MZ', 'WA', 'NC', 'NG', 'NF', 'NI', 'NU', 'NL', 'NO', 'NP', 'NR', 'NE', 'NZ', 'MU', 'PM', 'PE', 'FP', 'PP', 'RP', 'PK', 'PL', 'SB', 'PC', 'RQ', 'WE', 'PO', 'PS', 'PA', 'QA', 'RE', 'RO', 'RI', 'RS', 'RW', 'SA', 'BP', 'SE', 'SU', 'OD', 'SW', 'SN', 'SH', 'SI', 'SV', 'LO', 'SL', 'SM', 'SG', 'SO', 'NS', 'TP', 'ES', 'NN', 'SY', 'WZ', 'TK', 'CD', 'FS', 'TO', 'TH', 'TI', 'TL', 'TT', 'TX', 'TS', 'TN', 'TU', 'TD', 'TV', 'TW', 'TZ', 'UP', 'UG', '', 'US', 'UY', 'UZ', 'VT', 'VC', 'VE', 'VI', 'VQ', 'VM', 'NH', 'WF', 'WS', 'YM', 'MF', 'SF', 'ZA', 'ZI', 'YI', 'NT'], 'Country': ['Andorra', 'United Arab Emirates', 'Afghanistan', 'Antigua and Barbuda', 'Anguilla', 'Albania', 'Armenia', 'Angola', 'Antarctica', 'Argentina', 'American Samoa', 'Austria', 'Australia', 'Aruba', 'Aland Islands', 'Azerbaijan', 'Bosnia and Herzegovina', 'Barbados', 'Bangladesh', 'Belgium', 'Burkina Faso', 'Bulgaria', 'Bahrain', 'Burundi', 'Benin', 'Saint Barthelemy', 'Bermuda', 'Brunei', 'Bolivia', 'Bonaire, Saint Eustatius and Saba', 'Brazil', 'Bahamas', 'Bhutan', 'Bouvet Island', 'Botswana', 'Belarus', 'Belize', 'Canada', 'Cocos Islands', 'Democratic Republic of the Congo', 'Central African Republic', 'Republic of the Congo', 'Switzerland', 'Ivory Coast', 'Cook Islands', 'Chile', 'Cameroon', 'China', 'Colombia', 'Costa Rica', 'Cuba', 'Cabo Verde', 'Curacao', 'Christmas Island', 'Cyprus', 'Czechia', 'Germany', 'Djibouti', 'Denmark', 'Dominica', 'Dominican Republic', 'Algeria', 'Ecuador', 'Estonia', 'Egypt', 'Western Sahara', 'Eritrea', 'Spain', 'Ethiopia', 'Finland', 'Fiji', 'Falkland Islands', 'Micronesia', 'Faroe Islands', 'France', 'Gabon', 'United Kingdom', 'Grenada', 'Georgia', 'French Guiana', 'Guernsey', 'Ghana', 'Gibraltar', 'Greenland', 'Gambia', 'Guinea', 'Guadeloupe', 'Equatorial Guinea', 'Greece', 'South Georgia and the South Sandwich Islands', 'Guatemala', 'Guam', 'Guinea-Bissau', 'Guyana', 'Hong Kong', 'Heard Island and McDonald Islands', 'Honduras', 'Croatia', 'Haiti', 'Hungary', 'Indonesia', 'Ireland', 'Israel', 'Isle of Man', 'India', 'British Indian Ocean Territory', 'Iraq', 'Iran', 'Iceland', 'Italy', 'Jersey', 'Jamaica', 'Jordan', 'Japan', 'Kenya', 'Kyrgyzstan', 'Cambodia', 'Kiribati', 'Comoros', 'Saint Kitts and Nevis', 'North Korea', 'South Korea', 'Kosovo', 'Kuwait', 'Cayman Islands', 'Kazakhstan', 'Laos', 'Lebanon', 'Saint Lucia', 'Liechtenstein', 'Sri Lanka', 'Liberia', 'Lesotho', 'Lithuania', 'Luxembourg', 'Latvia', 'Libya', 'Morocco', 'Monaco', 'Moldova', 'Montenegro', 'Saint Martin', 'Madagascar', 'Marshall Islands', 'North Macedonia', 'Mali', 'Myanmar', 'Mongolia', 'Macao', 'Northern Mariana Islands', 'Martinique', 'Mauritania', 'Montserrat', 'Malta', 'Mauritius', 'Maldives', 'Malawi', 'Mexico', 'Malaysia', 'Mozambique', 'Namibia', 'New Caledonia', 'Niger', 'Norfolk Island', 'Nigeria', 'Nicaragua', 'The Netherlands', 'Norway', 'Nepal', 'Nauru', 'Niue', 'New Zealand', 'Oman', 'Panama', 'Peru', 'French Polynesia', 'Papua New Guinea', 'Philippines', 'Pakistan', 'Poland', 'Saint Pierre and Miquelon', 'Pitcairn', 'Puerto Rico', 'Palestinian Territory', 'Portugal', 'Palau', 'Paraguay', 'Qatar', 'Reunion', 'Romania', 'Serbia', 'Russia', 'Rwanda', 'Saudi Arabia', 'Solomon Islands', 'Seychelles', 'Sudan', 'South Sudan', 'Sweden', 'Singapore', 'Saint Helena', 'Slovenia', 'Svalbard and Jan Mayen', 'Slovakia', 'Sierra Leone', 'San Marino', 'Senegal', 'Somalia', 'Suriname', 'Sao Tome and Principe', 'El Salvador', 'Sint Maarten', 'Syria', 'Eswatini', 'Turks and Caicos Islands', 'Chad', 'French Southern Territories', 'Togo', 'Thailand', 'Tajikistan', 'Tokelau', 'Timor Leste', 'Turkmenistan', 'Tunisia', 'Tonga', 'Turkey', 'Trinidad and Tobago', 'Tuvalu', 'Taiwan', 'Tanzania', 'Ukraine', 'Uganda', 'United States Minor Outlying Islands', 'United States', 'Uruguay', 'Uzbekistan', 'Vatican', 'Saint Vincent and the Grenadines', 'Venezuela', 'British Virgin Islands', 'U.S. Virgin Islands', 'Vietnam', 'Vanuatu', 'Wallis and Futuna', 'Samoa', 'Yemen', 'Mayotte', 'South Africa', 'Zambia', 'Zimbabwe', 'Serbia and Montenegro', 'Netherlands Antilles'], 'Capital': ['Andorra la Vella', 'Abu Dhabi', 'Kabul', \"St. John's\", 'The Valley', 'Tirana', 'Yerevan', 'Luanda', '', 'Buenos Aires', 'Pago Pago', 'Vienna', 'Canberra', 'Oranjestad', 'Mariehamn', 'Baku', 'Sarajevo', 'Bridgetown', 'Dhaka', 'Brussels', 'Ouagadougou', 'Sofia', 'Manama', 'Gitega', 'Porto-Novo', 'Gustavia', 'Hamilton', 'Bandar Seri Begawan', 'Sucre', '', 'Brasilia', 'Nassau', 'Thimphu', '', 'Gaborone', 'Minsk', 'Belmopan', 'Ottawa', 'West Island', 'Kinshasa', 'Bangui', 'Brazzaville', 'Bern', 'Yamoussoukro', 'Avarua', 'Santiago', 'Yaounde', 'Beijing', 'Bogota', 'San Jose', 'Havana', 'Praia', 'Willemstad', 'Flying Fish Cove', 'Nicosia', 'Prague', 'Berlin', 'Djibouti', 'Copenhagen', 'Roseau', 'Santo Domingo', 'Algiers', 'Quito', 'Tallinn', 'Cairo', 'El-Aaiun', 'Asmara', 'Madrid', 'Addis Ababa', 'Helsinki', 'Suva', 'Stanley', 'Palikir', 'Torshavn', 'Paris', 'Libreville', 'London', \"St. George's\", 'Tbilisi', 'Cayenne', 'St Peter Port', 'Accra', 'Gibraltar', 'Nuuk', 'Banjul', 'Conakry', 'Basse-Terre', 'Malabo', 'Athens', 'Grytviken', 'Guatemala City', 'Hagatna', 'Bissau', 'Georgetown', 'Hong Kong', '', 'Tegucigalpa', 'Zagreb', 'Port-au-Prince', 'Budapest', 'Jakarta', 'Dublin', 'Jerusalem', 'Douglas', 'New Delhi', 'Diego Garcia', 'Baghdad', 'Tehran', 'Reykjavik', 'Rome', 'Saint Helier', 'Kingston', 'Amman', 'Tokyo', 'Nairobi', 'Bishkek', 'Phnom Penh', 'Tarawa', 'Moroni', 'Basseterre', 'Pyongyang', 'Seoul', 'Pristina', 'Kuwait City', 'George Town', 'Nur-Sultan', 'Vientiane', 'Beirut', 'Castries', 'Vaduz', 'Colombo', 'Monrovia', 'Maseru', 'Vilnius', 'Luxembourg', 'Riga', 'Tripoli', 'Rabat', 'Monaco', 'Chisinau', 'Podgorica', 'Marigot', 'Antananarivo', 'Majuro', 'Skopje', 'Bamako', 'Nay Pyi Taw', 'Ulaanbaatar', 'Macao', 'Saipan', 'Fort-de-France', 'Nouakchott', 'Plymouth', 'Valletta', 'Port Louis', 'Male', 'Lilongwe', 'Mexico City', 'Kuala Lumpur', 'Maputo', 'Windhoek', 'Noumea', 'Niamey', 'Kingston', 'Abuja', 'Managua', 'Amsterdam', 'Oslo', 'Kathmandu', 'Yaren', 'Alofi', 'Wellington', 'Muscat', 'Panama City', 'Lima', 'Papeete', 'Port Moresby', 'Manila', 'Islamabad', 'Warsaw', 'Saint-Pierre', 'Adamstown', 'San Juan', 'East Jerusalem', 'Lisbon', 'Melekeok', 'Asuncion', 'Doha', 'Saint-Denis', 'Bucharest', 'Belgrade', 'Moscow', 'Kigali', 'Riyadh', 'Honiara', 'Victoria', 'Khartoum', 'Juba', 'Stockholm', 'Singapore', 'Jamestown', 'Ljubljana', 'Longyearbyen', 'Bratislava', 'Freetown', 'San Marino', 'Dakar', 'Mogadishu', 'Paramaribo', 'Sao Tome', 'San Salvador', 'Philipsburg', 'Damascus', 'Mbabane', 'Cockburn Town', \"N'Djamena\", 'Port-aux-Francais', 'Lome', 'Bangkok', 'Dushanbe', '', 'Dili', 'Ashgabat', 'Tunis', \"Nuku'alofa\", 'Ankara', 'Port of Spain', 'Funafuti', 'Taipei', 'Dodoma', 'Kyiv', 'Kampala', '', 'Washington', 'Montevideo', 'Tashkent', 'Vatican City', 'Kingstown', 'Caracas', 'Road Town', 'Charlotte Amalie', 'Hanoi', 'Port Vila', 'Mata Utu', 'Apia', 'Sanaa', 'Mamoudzou', 'Pretoria', 'Lusaka', 'Harare', 'Belgrade', 'Willemstad'], 'Area(in sq km)': ['468', '82880', '647500', '443', '102', '28748', '29800', '1246700', '14000000', '2766890', '199', '83858', '7686850', '193', '1580', '86600', '51129', '431', '144000', '30510', '274200', '110910', '665', '27830', '112620', '21', '53', '5770', '1098580', '328', '8511965', '13940', '47000', '49', '600370', '207600', '22966', '9984670', '14', '2345410', '622984', '342000', '41290', '322460', '240', '756950', '475440', '9596960', '1138910', '51100', '110860', '4033', '444', '135', '9250', '78866', '357021', '23000', '43094', '754', '48730', '2381740', '283560', '45226', '1001450', '266000', '121320', '504782', '1127127', '337030', '18270', '12173', '702', '1399', '547030', '267667', '244820', '344', '69700', '91000', '78', '239460', '6.5', '2166086', '11300', '245857', '1780', '28051', '131940', '3903', '108890', '549', '36120', '214970', '1092', '412', '112090', '56542', '27750', '93030', '1919440', '70280', '20770', '572', '3287590', '60', '437072', '1648000', '103000', '301230', '116', '10991', '92300', '377835', '582650', '198500', '181040', '811', '2170', '261', '120540', '98480', '10908', '17820', '262', '2717300', '236800', '10400', '616', '160', '65610', '111370', '30355', '65200', '2586', '64589', '1759540', '446550', '1.95', '33843', '14026', '53', '587040', '181.3', '25333', '1240000', '678500', '1565000', '254', '477', '1100', '1030700', '102', '316', '2040', '300', '118480', '1972550', '329750', '801590', '825418', '19060', '1267000', '34.6', '923768', '129494', '41526', '324220', '140800', '21', '260', '268680', '212460', '78200', '1285220', '4167', '462840', '300000', '803940', '312685', '242', '47', '9104', '5970', '92391', '458', '406750', '11437', '2517', '237500', '88361', '17100000', '26338', '1960582', '28450', '455', '1861484', '644329', '449964', '692.7', '410', '20273', '62049', '48845', '71740', '61.2', '196190', '637657', '163270', '1001', '21040', '21', '185180', '17363', '430', '1284000', '7829', '56785', '514000', '143100', '10', '15007', '488100', '163610', '748', '780580', '5128', '26', '35980', '945087', '603700', '236040', '0', '9629091', '176220', '447400', '0.44', '389', '912050', '153', '352', '329560', '12200', '274', '2944', '527970', '374', '1219912', '752614', '390580', '102350', '960'], 'Population': ['77006', '9630959', '37172386', '96286', '13254', '2866376', '2951776', '30809762', '0', '44494502', '55465', '8847037', '24992369', '105845', '26711', '9942334', '3323929', '286641', '161356039', '11422068', '19751535', '7000039', '1569439', '11175378', '11485048', '8450', '63968', '428962', '11353142', '18012', '209469333', '385640', '754394', '0', '2254126', '9485386', '383071', '37058856', '628', '84068091', '4666377', '5244363', '8516543', '25069229', '21388', '18729160', '25216237', '1411778724', '49648685', '4999441', '11338138', '543767', '159849', '1500', '1189265', '10625695', '82927922', '958920', '5797446', '71625', '10627165', '42228429', '17084357', '1320884', '98423595', '273008', '6209262', '46723749', '109224559', '5518050', '883483', '2638', '112640', '48497', '66987244', '2119275', '66488991', '111454', '3731000', '195506', '65228', '29767108', '33718', '56025', '2280102', '12414318', '443000', '1308974', '10727668', '30', '17247807', '165768', '1874309', '779004', '7451000', '0', '9587522', '3871833', '11123176', '9768785', '267663435', '4853506', '8883800', '84077', '1352617328', '4000', '38433600', '81800269', '353574', '60431283', '90812', '2934855', '9956011', '126529100', '51393010', '6315800', '16249798', '115847', '832322', '52441', '25549819', '51635256', '1845300', '4137309', '64174', '18276499', '7061507', '6848925', '181889', '37910', '21670000', '4818977', '2108132', '2789533', '607728', '1926542', '6678567', '36029138', '38682', '3545883', '622345', '37264', '26262368', '58413', '2082958', '19077690', '53708395', '3170208', '631636', '56882', '432900', '4403319', '9341', '483530', '1265303', '515696', '17563749', '126190788', '31528585', '29495962', '2448255', '284060', '22442948', '1828', '195874740', '6465513', '17231017', '5314336', '28087871', '12704', '2166', '4885500', '4829483', '4176873', '31989256', '277679', '8606316', '106651922', '212215030', '37978548', '7012', '46', '3195153', '4569087', '10281762', '17907', '6956071', '2781677', '776948', '19473936', '6982084', '144478050', '12301939', '33699947', '652858', '96762', '41801533', '8260490', '10183175', '5638676', '7460', '2067372', '2550', '5447011', '7650154', '33785', '15854360', '15008154', '575991', '197700', '6420744', '40654', '16906283', '1136191', '37665', '15477751', '140', '7889094', '69428524', '9100837', '1466', '1267972', '5850908', '11565204', '103197', '82319724', '1389858', '11508', '23451837', '56318348', '44622516', '42723139', '0', '327167434', '3449299', '32955400', '921', '110211', '28870195', '29802', '106977', '95540395', '292680', '16025', '196130', '28498687', '279471', '57779622', '17351822', '14439018', '10829175', '300000'], 'Continent': ['EU', 'AS', 'AS', 'NA', 'NA', 'EU', 'AS', 'AF', 'AN', 'SA', 'OC', 'EU', 'OC', 'NA', 'EU', 'AS', 'EU', 'NA', 'AS', 'EU', 'AF', 'EU', 'AS', 'AF', 'AF', 'NA', 'NA', 'AS', 'SA', 'NA', 'SA', 'NA', 'AS', 'AN', 'AF', 'EU', 'NA', 'NA', 'AS', 'AF', 'AF', 'AF', 'EU', 'AF', 'OC', 'SA', 'AF', 'AS', 'SA', 'NA', 'NA', 'AF', 'NA', 'OC', 'EU', 'EU', 'EU', 'AF', 'EU', 'NA', 'NA', 'AF', 'SA', 'EU', 'AF', 'AF', 'AF', 'EU', 'AF', 'EU', 'OC', 'SA', 'OC', 'EU', 'EU', 'AF', 'EU', 'NA', 'AS', 'SA', 'EU', 'AF', 'EU', 'NA', 'AF', 'AF', 'NA', 'AF', 'EU', 'AN', 'NA', 'OC', 'AF', 'SA', 'AS', 'AN', 'NA', 'EU', 'NA', 'EU', 'AS', 'EU', 'AS', 'EU', 'AS', 'AS', 'AS', 'AS', 'EU', 'EU', 'EU', 'NA', 'AS', 'AS', 'AF', 'AS', 'AS', 'OC', 'AF', 'NA', 'AS', 'AS', 'EU', 'AS', 'NA', 'AS', 'AS', 'AS', 'NA', 'EU', 'AS', 'AF', 'AF', 'EU', 'EU', 'EU', 'AF', 'AF', 'EU', 'EU', 'EU', 'NA', 'AF', 'OC', 'EU', 'AF', 'AS', 'AS', 'AS', 'OC', 'NA', 'AF', 'NA', 'EU', 'AF', 'AS', 'AF', 'NA', 'AS', 'AF', 'AF', 'OC', 'AF', 'OC', 'AF', 'NA', 'EU', 'EU', 'AS', 'OC', 'OC', 'OC', 'AS', 'NA', 'SA', 'OC', 'OC', 'AS', 'AS', 'EU', 'NA', 'OC', 'NA', 'AS', 'EU', 'OC', 'SA', 'AS', 'AF', 'EU', 'EU', 'EU', 'AF', 'AS', 'OC', 'AF', 'AF', 'AF', 'EU', 'AS', 'AF', 'EU', 'EU', 'EU', 'AF', 'EU', 'AF', 'AF', 'SA', 'AF', 'NA', 'NA', 'AS', 'AF', 'NA', 'AF', 'AN', 'AF', 'AS', 'AS', 'OC', 'OC', 'AS', 'AF', 'OC', 'AS', 'NA', 'OC', 'AS', 'AF', 'EU', 'AF', 'OC', 'NA', 'SA', 'AS', 'EU', 'NA', 'SA', 'NA', 'NA', 'AS', 'OC', 'OC', 'OC', 'AS', 'AF', 'AF', 'AF', 'AF', 'EU', 'NA'], 'tld': ['.ad', '.ae', '.af', '.ag', '.ai', '.al', '.am', '.ao', '.aq', '.ar', '.as', '.at', '.au', '.aw', '.ax', '.az', '.ba', '.bb', '.bd', '.be', '.bf', '.bg', '.bh', '.bi', '.bj', '.gp', '.bm', '.bn', '.bo', '.bq', '.br', '.bs', '.bt', '.bv', '.bw', '.by', '.bz', '.ca', '.cc', '.cd', '.cf', '.cg', '.ch', '.ci', '.ck', '.cl', '.cm', '.cn', '.co', '.cr', '.cu', '.cv', '.cw', '.cx', '.cy', '.cz', '.de', '.dj', '.dk', '.dm', '.do', '.dz', '.ec', '.ee', '.eg', '.eh', '.er', '.es', '.et', '.fi', '.fj', '.fk', '.fm', '.fo', '.fr', '.ga', '.uk', '.gd', '.ge', '.gf', '.gg', '.gh', '.gi', '.gl', '.gm', '.gn', '.gp', '.gq', '.gr', '.gs', '.gt', '.gu', '.gw', '.gy', '.hk', '.hm', '.hn', '.hr', '.ht', '.hu', '.id', '.ie', '.il', '.im', '.in', '.io', '.iq', '.ir', '.is', '.it', '.je', '.jm', '.jo', '.jp', '.ke', '.kg', '.kh', '.ki', '.km', '.kn', '.kp', '.kr', '', '.kw', '.ky', '.kz', '.la', '.lb', '.lc', '.li', '.lk', '.lr', '.ls', '.lt', '.lu', '.lv', '.ly', '.ma', '.mc', '.md', '.me', '.gp', '.mg', '.mh', '.mk', '.ml', '.mm', '.mn', '.mo', '.mp', '.mq', '.mr', '.ms', '.mt', '.mu', '.mv', '.mw', '.mx', '.my', '.mz', '.na', '.nc', '.ne', '.nf', '.ng', '.ni', '.nl', '.no', '.np', '.nr', '.nu', '.nz', '.om', '.pa', '.pe', '.pf', '.pg', '.ph', '.pk', '.pl', '.pm', '.pn', '.pr', '.ps', '.pt', '.pw', '.py', '.qa', '.re', '.ro', '.rs', '.ru', '.rw', '.sa', '.sb', '.sc', '.sd', '.ss', '.se', '.sg', '.sh', '.si', '.sj', '.sk', '.sl', '.sm', '.sn', '.so', '.sr', '.st', '.sv', '.sx', '.sy', '.sz', '.tc', '.td', '.tf', '.tg', '.th', '.tj', '.tk', '.tl', '.tm', '.tn', '.to', '.tr', '.tt', '.tv', '.tw', '.tz', '.ua', '.ug', '.um', '.us', '.uy', '.uz', '.va', '.vc', '.ve', '.vg', '.vi', '.vn', '.vu', '.wf', '.ws', '.ye', '.yt', '.za', '.zm', '.zw', '.cs', '.an'], 'CurrencyCode': ['EUR', 'AED', 'AFN', 'XCD', 'XCD', 'ALL', 'AMD', 'AOA', '', 'ARS', 'USD', 'EUR', 'AUD', 'AWG', 'EUR', 'AZN', 'BAM', 'BBD', 'BDT', 'EUR', 'XOF', 'BGN', 'BHD', 'BIF', 'XOF', 'EUR', 'BMD', 'BND', 'BOB', 'USD', 'BRL', 'BSD', 'BTN', 'NOK', 'BWP', 'BYN', 'BZD', 'CAD', 'AUD', 'CDF', 'XAF', 'XAF', 'CHF', 'XOF', 'NZD', 'CLP', 'XAF', 'CNY', 'COP', 'CRC', 'CUP', 'CVE', 'ANG', 'AUD', 'EUR', 'CZK', 'EUR', 'DJF', 'DKK', 'XCD', 'DOP', 'DZD', 'USD', 'EUR', 'EGP', 'MAD', 'ERN', 'EUR', 'ETB', 'EUR', 'FJD', 'FKP', 'USD', 'DKK', 'EUR', 'XAF', 'GBP', 'XCD', 'GEL', 'EUR', 'GBP', 'GHS', 'GIP', 'DKK', 'GMD', 'GNF', 'EUR', 'XAF', 'EUR', 'GBP', 'GTQ', 'USD', 'XOF', 'GYD', 'HKD', 'AUD', 'HNL', 'EUR', 'HTG', 'HUF', 'IDR', 'EUR', 'ILS', 'GBP', 'INR', 'USD', 'IQD', 'IRR', 'ISK', 'EUR', 'GBP', 'JMD', 'JOD', 'JPY', 'KES', 'KGS', 'KHR', 'AUD', 'KMF', 'XCD', 'KPW', 'KRW', 'EUR', 'KWD', 'KYD', 'KZT', 'LAK', 'LBP', 'XCD', 'CHF', 'LKR', 'LRD', 'LSL', 'EUR', 'EUR', 'EUR', 'LYD', 'MAD', 'EUR', 'MDL', 'EUR', 'EUR', 'MGA', 'USD', 'MKD', 'XOF', 'MMK', 'MNT', 'MOP', 'USD', 'EUR', 'MRU', 'XCD', 'EUR', 'MUR', 'MVR', 'MWK', 'MXN', 'MYR', 'MZN', 'NAD', 'XPF', 'XOF', 'AUD', 'NGN', 'NIO', 'EUR', 'NOK', 'NPR', 'AUD', 'NZD', 'NZD', 'OMR', 'PAB', 'PEN', 'XPF', 'PGK', 'PHP', 'PKR', 'PLN', 'EUR', 'NZD', 'USD', 'ILS', 'EUR', 'USD', 'PYG', 'QAR', 'EUR', 'RON', 'RSD', 'RUB', 'RWF', 'SAR', 'SBD', 'SCR', 'SDG', 'SSP', 'SEK', 'SGD', 'SHP', 'EUR', 'NOK', 'EUR', 'SLL', 'EUR', 'XOF', 'SOS', 'SRD', 'STN', 'USD', 'ANG', 'SYP', 'SZL', 'USD', 'XAF', 'EUR', 'XOF', 'THB', 'TJS', 'NZD', 'USD', 'TMT', 'TND', 'TOP', 'TRY', 'TTD', 'AUD', 'TWD', 'TZS', 'UAH', 'UGX', 'USD', 'USD', 'UYU', 'UZS', 'EUR', 'XCD', 'VES', 'USD', 'USD', 'VND', 'VUV', 'XPF', 'WST', 'YER', 'EUR', 'ZAR', 'ZMW', 'ZWL', 'RSD', 'ANG'], 'CurrencyName': ['Euro', 'Dirham', 'Afghani', 'Dollar', 'Dollar', 'Lek', 'Dram', 'Kwanza', '', 'Peso', 'Dollar', 'Euro', 'Dollar', 'Guilder', 'Euro', 'Manat', 'Marka', 'Dollar', 'Taka', 'Euro', 'Franc', 'Lev', 'Dinar', 'Franc', 'Franc', 'Euro', 'Dollar', 'Dollar', 'Boliviano', 'Dollar', 'Real', 'Dollar', 'Ngultrum', 'Krone', 'Pula', 'Belarusian ruble', 'Dollar', 'Dollar', 'Dollar', 'Franc', 'Franc', 'Franc', 'Franc', 'Franc', 'Dollar', 'Peso', 'Franc', 'Yuan Renminbi', 'Peso', 'Colon', 'Peso', 'Escudo', 'Guilder', 'Dollar', 'Euro', 'Koruna', 'Euro', 'Franc', 'Krone', 'Dollar', 'Peso', 'Dinar', 'Dollar', 'Euro', 'Pound', 'Dirham', 'Nakfa', 'Euro', 'Birr', 'Euro', 'Dollar', 'Pound', 'Dollar', 'Krone', 'Euro', 'Franc', 'Pound', 'Dollar', 'Lari', 'Euro', 'Pound', 'Cedi', 'Pound', 'Krone', 'Dalasi', 'Franc', 'Euro', 'Franc', 'Euro', 'Pound', 'Quetzal', 'Dollar', 'Franc', 'Dollar', 'Dollar', 'Dollar', 'Lempira', 'Euro', 'Gourde', 'Forint', 'Rupiah', 'Euro', 'Shekel', 'Pound', 'Rupee', 'Dollar', 'Dinar', 'Rial', 'Krona', 'Euro', 'Pound', 'Dollar', 'Dinar', 'Yen', 'Shilling', 'Som', 'Riels', 'Dollar', 'Franc', 'Dollar', 'Won', 'Won', 'Euro', 'Dinar', 'Dollar', 'Tenge', 'Kip', 'Pound', 'Dollar', 'Franc', 'Rupee', 'Dollar', 'Loti', 'Euro', 'Euro', 'Euro', 'Dinar', 'Dirham', 'Euro', 'Leu', 'Euro', 'Euro', 'Ariary', 'Dollar', 'Denar', 'Franc', 'Kyat', 'Tugrik', 'Pataca', 'Dollar', 'Euro', 'Ouguiya', 'Dollar', 'Euro', 'Rupee', 'Rufiyaa', 'Kwacha', 'Peso', 'Ringgit', 'Metical', 'Dollar', 'Franc', 'Franc', 'Dollar', 'Naira', 'Cordoba', 'Euro', 'Krone', 'Rupee', 'Dollar', 'Dollar', 'Dollar', 'Rial', 'Balboa', 'Sol', 'Franc', 'Kina', 'Peso', 'Rupee', 'Zloty', 'Euro', 'Dollar', 'Dollar', 'Shekel', 'Euro', 'Dollar', 'Guarani', 'Rial', 'Euro', 'Leu', 'Dinar', 'Ruble', 'Franc', 'Rial', 'Dollar', 'Rupee', 'Pound', 'Pound', 'Krona', 'Dollar', 'Pound', 'Euro', 'Krone', 'Euro', 'Leone', 'Euro', 'Franc', 'Shilling', 'Dollar', 'Dobra', 'Dollar', 'Guilder', 'Pound', 'Lilangeni', 'Dollar', 'Franc', 'Euro', 'Franc', 'Baht', 'Somoni', 'Dollar', 'Dollar', 'Manat', 'Dinar', \"Pa'anga\", 'Lira', 'Dollar', 'Dollar', 'Dollar', 'Shilling', 'Hryvnia', 'Shilling', 'Dollar', 'Dollar', 'Peso', 'Som', 'Euro', 'Dollar', 'Bolivar Soberano', 'Dollar', 'Dollar', 'Dong', 'Vatu', 'Franc', 'Tala', 'Rial', 'Euro', 'Rand', 'Kwacha', 'Dollar', 'Dinar', 'Guilder'], 'Phone': ['376', '971', '93', '+1-268', '+1-264', '355', '374', '244', '', '54', '+1-684', '43', '61', '297', '+358-18', '994', '387', '+1-246', '880', '32', '226', '359', '973', '257', '229', '590', '+1-441', '673', '591', '599', '55', '+1-242', '975', '', '267', '375', '501', '1', '61', '243', '236', '242', '41', '225', '682', '56', '237', '86', '57', '506', '53', '238', '599', '61', '357', '420', '49', '253', '45', '+1-767', '+1-809 and 1-829', '213', '593', '372', '20', '212', '291', '34', '251', '358', '679', '500', '691', '298', '33', '241', '44', '+1-473', '995', '594', '+44-1481', '233', '350', '299', '220', '224', '590', '240', '30', '', '502', '+1-671', '245', '592', '852', '', '504', '385', '509', '36', '62', '353', '972', '+44-1624', '91', '246', '964', '98', '354', '39', '+44-1534', '+1-876', '962', '81', '254', '996', '855', '686', '269', '+1-869', '850', '82', '', '965', '+1-345', '7', '856', '961', '+1-758', '423', '94', '231', '266', '370', '352', '371', '218', '212', '377', '373', '382', '590', '261', '692', '389', '223', '95', '976', '853', '+1-670', '596', '222', '+1-664', '356', '230', '960', '265', '52', '60', '258', '264', '687', '227', '672', '234', '505', '31', '47', '977', '674', '683', '64', '968', '507', '51', '689', '675', '63', '92', '48', '508', '870', '+1-787 and 1-939', '970', '351', '680', '595', '974', '262', '40', '381', '7', '250', '966', '677', '248', '249', '211', '46', '65', '290', '386', '47', '421', '232', '378', '221', '252', '597', '239', '503', '599', '963', '268', '+1-649', '235', '', '228', '66', '992', '690', '670', '993', '216', '676', '90', '+1-868', '688', '886', '255', '380', '256', '1', '1', '598', '998', '379', '+1-784', '58', '+1-284', '+1-340', '84', '678', '681', '685', '967', '262', '27', '260', '263', '381', '599'], 'Postal Code Format': ['AD###', '', '', '', '', '####', '######', '', '', '@####@@@', '#####-####', '####', '####', '', '#####', 'AZ ####', '#####', 'BB#####', '####', '####', '', '####', '####|###', '', '', '#####', '@@ ##', '@@####', '', '', '#####-###', '', '', '', '', '######', '', '@#@ #@#', '', '', '', '', '####', '', '', '#######', '', '######', '######', '#####', 'CP #####', '####', '', '####', '####', '### ##', '#####', '', '####', '', '#####', '#####', '@####@', '#####', '#####', '', '', '#####', '####', '#####', '', '', '#####', '###', '#####', '', '@# #@@|@## #@@|@@# #@@|@@## #@@|@#@ #@@|@@#@ #@@|GIR0AA', '', '####', '#####', '@# #@@|@## #@@|@@# #@@|@@## #@@|@#@ #@@|@@#@ #@@|GIR0AA', '', '', '####', '', '', '#####', '', '### ##', '', '#####', '969##', '####', '', '', '', '@@####', '#####', 'HT####', '####', '#####', '@@@ @@@@', '#######', '@# #@@|@## #@@|@@# #@@|@@## #@@|@#@ #@@|@@#@ #@@|GIR0AA', '######', '', '#####', '##########', '###', '#####', '@# #@@|@## #@@|@@# #@@|@@## #@@|@#@ #@@|@@#@ #@@|GIR0AA', '', '#####', '###-####', '#####', '######', '#####', '', '', '', '###-###', '#####', '', '#####', '', '######', '#####', '#### ####|####', '', '####', '#####', '####', '###', 'LT-#####', 'L-####', 'LV-####', '', '#####', '#####', 'MD-####', '#####', '#####', '###', '#####-####', '####', '', '#####', '######', '', '#####', '#####', '', '', '@@@ ####', '', '#####', '######', '#####', '#####', '####', '', '#####', '####', '####', '######', '###-###-#', '#### @@', '####', '#####', '', '', '####', '###', '', '#####', '#####', '###', '####', '#####', '##-###', '#####', '', '#####-####', '', '####-###', '96940', '####', '', '#####', '######', '######', '######', '', '#####', '', '', '#####', '', '### ##', '######', 'STHL 1ZZ', '####', '####', '### ##', '', '4789#', '#####', '@@  #####', '', '', 'CP ####', '', '', '@###', 'TKCA 1ZZ', '', '', '', '#####', '######', '', '', '######', '####', '', '#####', '', '', '#####', '', '#####', '', '', '#####-####', '#####', '######', '#####', '', '####', '', '#####-####', '######', '', '#####', '', '', '#####', '####', '#####', '', '#####', ''], 'Postal Code Regex': ['^(?:AD)*(\\\\d{3})$', '', '', '', '', '^(\\\\d{4})$', '^(\\\\d{6})$', '', '', '^[A-Z]?\\\\d{4}[A-Z]{0,3}$', '96799', '^(\\\\d{4})$', '^(\\\\d{4})$', '', '^(?:FI)*(\\\\d{5})$', '^(?:AZ)*(\\\\d{4})$', '^(\\\\d{5})$', '^(?:BB)*(\\\\d{5})$', '^(\\\\d{4})$', '^(\\\\d{4})$', '', '^(\\\\d{4})$', '^(\\\\d{3}\\\\d?)$', '', '', '^(\\\\d{5})$', '^([A-Z]{2}\\\\d{2})$', '^([A-Z]{2}\\\\d{4})$', '', '', '^\\\\d{5}-\\\\d{3}$', '', '', '', '', '^(\\\\d{6})$', '', '^([ABCEGHJKLMNPRSTVXY]\\\\d[ABCEGHJKLMNPRSTVWXYZ]) ?(\\\\d[ABCEGHJKLMNPRSTVWXYZ]\\\\d)$', '', '', '', '', '^(\\\\d{4})$', '', '', '^(\\\\d{7})$', '', '^(\\\\d{6})$', '^(\\\\d{6})$', '^(\\\\d{5})$', '^(?:CP)*(\\\\d{5})$', '^(\\\\d{4})$', '', '^(\\\\d{4})$', '^(\\\\d{4})$', '^\\\\d{3}\\\\s?\\\\d{2}$', '^(\\\\d{5})$', '', '^(\\\\d{4})$', '', '^(\\\\d{5})$', '^(\\\\d{5})$', '^([a-zA-Z]\\\\d{4}[a-zA-Z])$', '^(\\\\d{5})$', '^(\\\\d{5})$', '', '', '^(\\\\d{5})$', '^(\\\\d{4})$', '^(?:FI)*(\\\\d{5})$', '', '', '^(\\\\d{5})$', '^(?:FO)*(\\\\d{3})$', '^(\\\\d{5})$', '', '^([Gg][Ii][Rr]\\\\s?0[Aa]{2})|((([A-Za-z][0-9]{1,2})|(([A-Za-z][A-Ha-hJ-Yj-y][0-9]{1,2})|(([A-Za-z][0-9][A-Za-z])|([A-Za-z][A-Ha-hJ-Yj-y][0-9]?[A-Za-z]))))\\\\s?[0-9][A-Za-z]{2})$', '', '^(\\\\d{4})$', '^((97|98)3\\\\d{2})$', '^((?:(?:[A-PR-UWYZ][A-HK-Y]\\\\d[ABEHMNPRV-Y0-9]|[A-PR-UWYZ]\\\\d[A-HJKPS-UW0-9])\\\\s\\\\d[ABD-HJLNP-UW-Z]{2})|GIR\\\\s?0AA)$', '', '', '^(\\\\d{4})$', '', '', '^((97|98)\\\\d{3})$', '', '^(\\\\d{5})$', '', '^(\\\\d{5})$', '^(969\\\\d{2})$', '^(\\\\d{4})$', '', '', '', '^([A-Z]{2}\\\\d{4})$', '^(?:HR)*(\\\\d{5})$', '^(?:HT)*(\\\\d{4})$', '^(\\\\d{4})$', '^(\\\\d{5})$', '^(D6W|[AC-FHKNPRTV-Y][0-9]{2})\\\\s?([AC-FHKNPRTV-Y0-9]{4})', '^(\\\\d{7}|\\\\d{5})$', '^((?:(?:[A-PR-UWYZ][A-HK-Y]\\\\d[ABEHMNPRV-Y0-9]|[A-PR-UWYZ]\\\\d[A-HJKPS-UW0-9])\\\\s\\\\d[ABD-HJLNP-UW-Z]{2})|GIR\\\\s?0AA)$', '^(\\\\d{6})$', '', '^(\\\\d{5})$', '^(\\\\d{10})$', '^(\\\\d{3})$', '^(\\\\d{5})$', '^((?:(?:[A-PR-UWYZ][A-HK-Y]\\\\d[ABEHMNPRV-Y0-9]|[A-PR-UWYZ]\\\\d[A-HJKPS-UW0-9])\\\\s\\\\d[ABD-HJLNP-UW-Z]{2})|GIR\\\\s?0AA)$', '', '^(\\\\d{5})$', '^\\\\d{3}-\\\\d{4}$', '^(\\\\d{5})$', '^(\\\\d{6})$', '^(\\\\d{5})$', '', '', '', '^(\\\\d{6})$', '^(\\\\d{5})$', '', '^(\\\\d{5})$', '', '^(\\\\d{6})$', '^(\\\\d{5})$', '^(\\\\d{4}(\\\\d{4})?)$', '', '^(\\\\d{4})$', '^(\\\\d{5})$', '^(\\\\d{4})$', '^(\\\\d{3})$', '^(?:LT)*(\\\\d{5})$', '^(?:L-)?\\\\d{4}$', '^(?:LV)*(\\\\d{4})$', '', '^(\\\\d{5})$', '^(\\\\d{5})$', '^MD-\\\\d{4}$', '^(\\\\d{5})$', '^(\\\\d{5})$', '^(\\\\d{3})$', '^969\\\\d{2}(-\\\\d{4})$', '^(\\\\d{4})$', '', '^(\\\\d{5})$', '^(\\\\d{6})$', '', '^9695\\\\d{1}$', '^(\\\\d{5})$', '', '', '^[A-Z]{3}\\\\s?\\\\d{4}$', '', '^(\\\\d{5})$', '^(\\\\d{6})$', '^(\\\\d{5})$', '^(\\\\d{5})$', '^(\\\\d{4})$', '', '^(\\\\d{5})$', '^(\\\\d{4})$', '^(\\\\d{4})$', '^(\\\\d{6})$', '^(\\\\d{7})$', '^(\\\\d{4}\\\\s?[a-zA-Z]{2})$', '^(\\\\d{4})$', '^(\\\\d{5})$', '', '', '^(\\\\d{4})$', '^(\\\\d{3})$', '', '^(\\\\d{5})$', '^((97|98)7\\\\d{2})$', '^(\\\\d{3})$', '^(\\\\d{4})$', '^(\\\\d{5})$', '^\\\\d{2}-\\\\d{3}$', '^(97500)$', '', '^00[679]\\\\d{2}(?:-\\\\d{4})?$', '', '^\\\\d{4}-\\\\d{3}\\\\s?[a-zA-Z]{0,25}$', '^(96940)$', '^(\\\\d{4})$', '', '^((97|98)(4|7|8)\\\\d{2})$', '^(\\\\d{6})$', '^(\\\\d{6})$', '^(\\\\d{6})$', '', '^(\\\\d{5})$', '', '', '^(\\\\d{5})$', '', '^(?:SE)?\\\\d{3}\\\\s\\\\d{2}$', '^(\\\\d{6})$', '^(STHL1ZZ)$', '^(?:SI)*(\\\\d{4})$', '^(\\\\d{4})$', '^\\\\d{3}\\\\s?\\\\d{2}$', '', '^(4789\\\\d)$', '^(\\\\d{5})$', '^([A-Z]{2}\\\\d{5})$', '', '', '^(?:CP)*(\\\\d{4})$', '', '', '^([A-Z]\\\\d{3})$', '^(TKCA 1ZZ)$', '', '', '', '^(\\\\d{5})$', '^(\\\\d{6})$', '', '', '^(\\\\d{6})$', '^(\\\\d{4})$', '', '^(\\\\d{5})$', '', '', '^(\\\\d{5})$', '', '^(\\\\d{5})$', '', '', '^\\\\d{5}(-\\\\d{4})?$', '^(\\\\d{5})$', '^(\\\\d{6})$', '^(\\\\d{5})$', '', '^(\\\\d{4})$', '', '^008\\\\d{2}(?:-\\\\d{4})?$', '^(\\\\d{6})$', '', '^(986\\\\d{2})$', '', '', '^(\\\\d{5})$', '^(\\\\d{4})$', '^(\\\\d{5})$', '', '^(\\\\d{5})$', ''], 'Languages': ['ca', 'ar-AE,fa,en,hi,ur', 'fa-AF,ps,uz-AF,tk', 'en-AG', 'en-AI', 'sq,el', 'hy', 'pt-AO', '', 'es-AR,en,it,de,fr,gn', 'en-AS,sm,to', 'de-AT,hr,hu,sl', 'en-AU', 'nl-AW,pap,es,en', 'sv-AX', 'az,ru,hy', 'bs,hr-BA,sr-BA', 'en-BB', 'bn-BD,en', 'nl-BE,fr-BE,de-BE', 'fr-BF,mos', 'bg,tr-BG,rom', 'ar-BH,en,fa,ur', 'fr-BI,rn', 'fr-BJ', 'fr', 'en-BM,pt', 'ms-BN,en-BN', 'es-BO,qu,ay', 'nl,pap,en', 'pt-BR,es,en,fr', 'en-BS', 'dz', '', 'en-BW,tn-BW', 'be,ru', 'en-BZ,es', 'en-CA,fr-CA,iu', 'ms-CC,en', 'fr-CD,ln,ktu,kg,sw,lua', 'fr-CF,sg,ln,kg', 'fr-CG,kg,ln-CG', 'de-CH,fr-CH,it-CH,rm', 'fr-CI', 'en-CK,mi', 'es-CL', 'en-CM,fr-CM', 'zh-CN,yue,wuu,dta,ug,za', 'es-CO', 'es-CR,en', 'es-CU,pap', 'pt-CV', 'nl,pap', 'en,zh,ms-CX', 'el-CY,tr-CY,en', 'cs,sk', 'de', 'fr-DJ,ar,so-DJ,aa', 'da-DK,en,fo,de-DK', 'en-DM', 'es-DO', 'ar-DZ', 'es-EC', 'et,ru', 'ar-EG,en,fr', 'ar,mey', 'aa-ER,ar,tig,kun,ti-ER', 'es-ES,ca,gl,eu,oc', 'am,en-ET,om-ET,ti-ET,so-ET,sid', 'fi-FI,sv-FI,smn', 'en-FJ,fj', 'en-FK', 'en-FM,chk,pon,yap,kos,uli,woe,nkr,kpg', 'fo,da-FO', 'fr-FR,frp,br,co,ca,eu,oc', 'fr-GA', 'en-GB,cy-GB,gd', 'en-GD', 'ka,ru,hy,az', 'fr-GF', 'en,nrf', 'en-GH,ak,ee,tw', 'en-GI,es,it,pt', 'kl,da-GL,en', 'en-GM,mnk,wof,wo,ff', 'fr-GN', 'fr-GP', 'es-GQ,fr,pt', 'el-GR,en,fr', 'en', 'es-GT', 'en-GU,ch-GU', 'pt-GW,pov', 'en-GY', 'zh-HK,yue,zh,en', '', 'es-HN,cab,miq', 'hr-HR,sr', 'ht,fr-HT', 'hu-HU', 'id,en,nl,jv', 'en-IE,ga-IE', 'he,ar-IL,en-IL,', 'en,gv', 'en-IN,hi,bn,te,mr,ta,ur,gu,kn,ml,or,pa,as,bh,sat,ks,ne,sd,kok,doi,mni,sit,sa,fr,lus,inc', 'en-IO', 'ar-IQ,ku,hy', 'fa-IR,ku', 'is,en,de,da,sv,no', 'it-IT,de-IT,fr-IT,sc,ca,co,sl', 'en,fr,nrf', 'en-JM', 'ar-JO,en', 'ja', 'en-KE,sw-KE', 'ky,uz,ru', 'km,fr,en', 'en-KI,gil', 'ar,fr-KM', 'en-KN', 'ko-KP', 'ko-KR,en', 'sq,sr', 'ar-KW,en', 'en-KY', 'kk,ru', 'lo,fr,en', 'ar-LB,fr-LB,en,hy', 'en-LC', 'de-LI', 'si,ta,en', 'en-LR', 'en-LS,st,zu,xh', 'lt,ru,pl', 'lb,de-LU,fr-LU', 'lv,ru,lt', 'ar-LY,it,en', 'ar-MA,ber,fr', 'fr-MC,en,it', 'ro,ru,gag,tr', 'sr,hu,bs,sq,hr,rom', 'fr', 'fr-MG,mg', 'mh,en-MH', 'mk,sq,tr,rmm,sr', 'fr-ML,bm', 'my', 'mn,ru', 'zh,zh-MO,pt', 'fil,tl,zh,ch-MP,en-MP', 'fr-MQ', 'ar-MR,fuc,snk,fr,mey,wo', 'en-MS', 'mt,en-MT', 'en-MU,bho,fr', 'dv,en', 'ny,yao,tum,swk', 'es-MX', 'ms-MY,en,zh,ta,te,ml,pa,th', 'pt-MZ,vmw', 'en-NA,af,de,hz,naq', 'fr-NC', 'fr-NE,ha,kr,dje', 'en-NF', 'en-NG,ha,yo,ig,ff', 'es-NI,en', 'nl-NL,fy-NL', 'no,nb,nn,se,fi', 'ne,en', 'na,en-NR', 'niu,en-NU', 'en-NZ,mi', 'ar-OM,en,bal,ur', 'es-PA,en', 'es-PE,qu,ay', 'fr-PF,ty', 'en-PG,ho,meu,tpi', 'tl,en-PH,fil,ceb,ilo,hil,war,pam,bik,bcl,pag,mrw,tsg,mdh,cbk,krj,sgd,msb,akl,ibg,yka,mta,abx', 'ur-PK,en-PK,pa,sd,ps,brh', 'pl', 'fr-PM', 'en-PN', 'en-PR,es-PR', 'ar-PS', 'pt-PT,mwl', 'pau,sov,en-PW,tox,ja,fil,zh', 'es-PY,gn', 'ar-QA,es', 'fr-RE', 'ro,hu,rom', 'sr,hu,bs,rom', 'ru,tt,xal,cau,ady,kv,ce,tyv,cv,udm,tut,mns,bua,myv,mdf,chm,ba,inh,kbd,krc,av,sah,nog', 'rw,en-RW,fr-RW,sw', 'ar-SA', 'en-SB,tpi', 'en-SC,fr-SC', 'ar-SD,en,fia', 'en', 'sv-SE,se,sma,fi-SE', 'cmn,en-SG,ms-SG,ta-SG,zh-SG', 'en-SH', 'sl,sh', 'no,ru', 'sk,hu', 'en-SL,men,tem', 'it-SM', 'fr-SN,wo,fuc,mnk', 'so-SO,ar-SO,it,en-SO', 'nl-SR,en,srn,hns,jv', 'pt-ST', 'es-SV', 'nl,en', 'ar-SY,ku,hy,arc,fr,en', 'en-SZ,ss-SZ', 'en-TC', 'fr-TD,ar-TD,sre', 'fr', 'fr-TG,ee,hna,kbp,dag,ha', 'th,en', 'tg,ru', 'tkl,en-TK', 'tet,pt-TL,id,en', 'tk,ru,uz', 'ar-TN,fr', 'to,en-TO', 'tr-TR,ku,diq,az,av', 'en-TT,hns,fr,es,zh', 'tvl,en,sm,gil', 'zh-TW,zh,nan,hak', 'sw-TZ,en,ar', 'uk,ru-UA,rom,pl,hu', 'en-UG,lg,sw,ar', 'en-UM', 'en-US,es-US,haw,fr', 'es-UY', 'uz,ru,tg', 'la,it,fr', 'en-VC,fr', 'es-VE', 'en-VG', 'en-VI', 'vi,en,fr,zh,km', 'bi,en-VU,fr-VU', 'wls,fud,fr-WF', 'sm,en-WS', 'ar-YE', 'fr-YT', 'zu,xh,af,nso,en-ZA,tn,st,ts,ss,ve,nr', 'en-ZM,bem,loz,lun,lue,ny,toi', 'en-ZW,sn,nr,nd', 'cu,hu,sq,sr', 'nl-AN,en,es'], 'geonameid': ['3041565', '290557', '1149361', '3576396', '3573511', '783754', '174982', '3351879', '6697173', '3865483', '5880801', '2782113', '2077456', '3577279', '661882', '587116', '3277605', '3374084', '1210997', '2802361', '2361809', '732800', '290291', '433561', '2395170', '3578476', '3573345', '1820814', '3923057', '7626844', '3469034', '3572887', '1252634', '3371123', '933860', '630336', '3582678', '6251999', '1547376', '203312', '239880', '2260494', '2658434', '2287781', '1899402', '3895114', '2233387', '1814991', '3686110', '3624060', '3562981', '3374766', '7626836', '2078138', '146669', '3077311', '2921044', '223816', '2623032', '3575830', '3508796', '2589581', '3658394', '453733', '357994', '2461445', '338010', '2510769', '337996', '660013', '2205218', '3474414', '2081918', '2622320', '3017382', '2400553', '2635167', '3580239', '614540', '3381670', '3042362', '2300660', '2411586', '3425505', '2413451', '2420477', '3579143', '2309096', '390903', '3474415', '3595528', '4043988', '2372248', '3378535', '1819730', '1547314', '3608932', '3202326', '3723988', '719819', '1643084', '2963597', '294640', '3042225', '1269750', '1282588', '99237', '130758', '2629691', '3175395', '3042142', '3489940', '248816', '1861060', '192950', '1527747', '1831722', '4030945', '921929', '3575174', '1873107', '1835841', '831053', '285570', '3580718', '1522867', '1655842', '272103', '3576468', '3042058', '1227603', '2275384', '932692', '597427', '2960313', '458258', '2215636', '2542007', '2993457', '617790', '3194884', '3578421', '1062947', '2080185', '718075', '2453866', '1327865', '2029969', '1821275', '4041468', '3570311', '2378080', '3578097', '2562770', '934292', '1282028', '927384', '3996063', '1733045', '1036973', '3355338', '2139685', '2440476', '2155115', '2328926', '3617476', '2750405', '3144096', '1282988', '2110425', '4036232', '2186224', '286963', '3703430', '3932488', '4030656', '2088628', '1694008', '1168579', '798544', '3424932', '4030699', '4566966', '6254930', '2264397', '1559582', '3437598', '289688', '935317', '798549', '6290252', '2017370', '49518', '102358', '2103350', '241170', '366755', '7909807', '2661886', '1880251', '3370751', '3190538', '607072', '3057568', '2403846', '3168068', '2245662', '51537', '3382998', '2410758', '3585968', '7609695', '163843', '934841', '3576916', '2434508', '1546748', '2363686', '1605651', '1220409', '4031074', '1966436', '1218197', '2464461', '4032283', '298795', '3573591', '2110297', '1668284', '149590', '690791', '226074', '5854968', '6252001', '3439705', '1512440', '3164670', '3577815', '3625428', '3577718', '4796775', '1562822', '2134431', '4034749', '4034894', '69543', '1024031', '953987', '895949', '878675', '8505033', '8505032'], 'neighbours': ['ES,FR', 'SA,OM', 'TM,CN,IR,TJ,PK,UZ', '', '', 'MK,GR,ME,RS,XK', 'GE,IR,AZ,TR', 'CD,NA,ZM,CG', '', 'CL,BO,UY,PY,BR', '', 'CH,DE,HU,SK,CZ,IT,SI,LI', '', '', '', 'GE,IR,AM,TR,RU', 'HR,ME,RS', '', 'MM,IN', 'DE,NL,LU,FR', 'NE,BJ,GH,CI,TG,ML', 'MK,GR,RO,TR,RS', '', 'TZ,CD,RW', 'NE,TG,BF,NG', '', '', 'MY', 'PE,CL,PY,BR,AR', '', 'SR,PE,BO,UY,GY,PY,GF,VE,CO,AR', '', 'CN,IN', '', 'ZW,ZA,NA', 'PL,LT,UA,RU,LV', 'GT,MX', 'US', '', 'TZ,CF,SS,RW,ZM,BI,UG,CG,AO', 'TD,SD,CD,SS,CM,CG', 'CF,GA,CD,CM,AO', 'DE,IT,LI,FR,AT', 'LR,GH,GN,BF,ML', '', 'PE,BO,AR', 'TD,CF,GA,GQ,CG,NG', 'LA,BT,TJ,KZ,MN,AF,NP,MM,KG,PK,KP,RU,VN,IN', 'EC,PE,PA,BR,VE', 'PA,NI', 'US', '', '', '', '', 'PL,DE,SK,AT', 'CH,PL,NL,DK,BE,CZ,LU,FR,AT', 'ER,ET,SO', 'DE', '', 'HT', 'NE,EH,LY,MR,TN,MA,ML', 'PE,CO', 'RU,LV', 'LY,SD,IL,PS', 'DZ,MR,MA', 'ET,SD,DJ', 'AD,PT,GI,FR,MA', 'ER,KE,SD,SS,SO,DJ', 'NO,RU,SE', '', '', '', '', 'CH,DE,BE,LU,IT,AD,MC,ES', 'CM,GQ,CG', 'IE', '', 'AM,AZ,TR,RU', 'SR,BR', '', 'CI,TG,BF', 'ES', '', 'SN', 'LR,SN,SL,CI,GW,ML', '', 'GA,CM', 'AL,MK,TR,BG', '', 'MX,HN,BZ,SV', '', 'SN,GN', 'SR,BR,VE', '', '', 'GT,NI,SV', 'HU,SI,BA,ME,RS', 'DO', 'SK,SI,RO,UA,HR,AT,RS', 'PG,TL,MY', 'GB', 'SY,JO,LB,EG,PS', '', 'CN,NP,MM,BT,PK,BD', '', 'SY,SA,IR,JO,TR,KW', 'TM,AF,IQ,AM,PK,AZ,TR', '', 'CH,VA,SI,SM,FR,AT', '', '', 'SY,SA,IQ,IL,PS', '', 'ET,TZ,SS,SO,UG', 'CN,TJ,UZ,KZ', 'LA,TH,VN', '', '', '', 'CN,KR,RU', 'KP', 'RS,AL,MK,ME', 'SA,IQ', '', 'TM,CN,KG,UZ,RU', 'CN,MM,KH,TH,VN', 'SY,IL', '', 'CH,AT', '', 'SL,CI,GN', 'ZA', 'PL,BY,RU,LV', 'DE,BE,FR', 'LT,EE,BY,RU', 'TD,NE,DZ,SD,TN,EG', 'DZ,EH,ES', 'FR', 'RO,UA', 'AL,HR,BA,RS,XK', 'SX', '', '', 'AL,GR,BG,RS,XK', 'SN,NE,DZ,CI,GN,MR,BF', 'CN,LA,TH,BD,IN', 'CN,RU', '', '', '', 'SN,DZ,EH,ML', '', '', '', '', 'TZ,MZ,ZM', 'GT,US,BZ', 'BN,TH,ID', 'ZW,TZ,SZ,ZA,ZM,MW', 'ZA,BW,ZM,AO', '', 'TD,BJ,DZ,LY,BF,NG,ML', '', 'TD,NE,BJ,CM', 'CR,HN', 'DE,BE', 'FI,RU,SE', 'CN,IN', '', '', '', 'SA,YE,AE', 'CR,CO', 'EC,CL,BO,BR,CO', '', 'ID', '', 'CN,AF,IR,IN', 'DE,LT,SK,CZ,BY,UA,RU', '', '', '', 'JO,IL,EG', 'ES', '', 'BO,BR,AR', 'SA', '', 'MD,HU,UA,BG,RS', 'AL,HU,MK,RO,HR,BA,BG,ME,XK', 'GE,CN,BY,UA,KZ,LV,PL,EE,LT,FI,MN,NO,AZ,KP', 'TZ,CD,BI,UG', 'QA,OM,IQ,YE,JO,AE,KW', '', '', 'SS,TD,EG,ET,ER,LY,CF', 'CD,CF,ET,KE,SD,UG', 'NO,FI', '', '', 'HU,IT,HR,AT', '', 'PL,HU,CZ,UA,AT', 'LR,GN', 'IT', 'GN,MR,GW,GM,ML', 'ET,KE,DJ', 'GY,BR,GF', '', 'GT,HN', 'MF', 'IQ,JO,IL,TR,LB', 'ZA,MZ', '', 'NE,LY,CF,SD,CM,NG', '', 'BJ,GH,BF', 'LA,MM,KH,MY', 'CN,AF,KG,UZ', '', 'ID', 'AF,IR,UZ,KZ', 'DZ,LY', '', 'SY,GE,IQ,IR,GR,AM,AZ,BG', '', '', '', 'MZ,KE,CD,RW,ZM,BI,UG,MW', 'PL,MD,HU,SK,BY,RO,RU', 'TZ,KE,SS,CD,RW', '', 'CA,MX,CU', 'BR,AR', 'TM,AF,KG,TJ,KZ', 'IT', '', 'GY,BR,CO', '', '', 'CN,LA,KH', '', '', '', 'SA,OM', '', 'ZW,SZ,MZ,BW,NA,LS', 'ZW,TZ,MZ,CD,NA,MW,AO', 'ZA,MZ,BW,ZM', 'AL,HU,MK,RO,HR,BA,BG', 'GP'], 'EquivalentFipsCode': ['', '', '', '', '', '', '', '', '', '', '', '', '', '', 'FI', '', '', '', '', '', '', '', '', '', '', '', '', '', '', '', '', '', '', '', '', '', '', '', '', '', '', '', '', '', '', '', '', '', '', '', '', '', '', '', '', '', '', '', '', '', '', '', '', '', '', '', '', '', '', '', '', '', '', '', '', '', '', '', '', '', '', '', '', '', '', '', '', '', '', '', '', '', '', '', '', '', '', '', '', '', '', '', '', '', '', '', '', '', '', '', '', '', '', '', '', '', '', '', '', '', '', '', '', '', '', '', '', '', '', '', '', '', '', '', '', '', '', '', '', '', '', '', '', '', '', '', '', '', '', '', '', '', '', '', '', '', '', '', '', '', '', '', '', '', '', '', '', '', '', '', '', '', '', '', '', '', '', '', '', '', '', '', '', '', '', '', '', '', '', '', '', '', '', '', '', '', '', '', '', '', '', '', '', '', '', '', '', '', '', '', '', '', '', '', '', '', '', '', '', '', '', '', '', '', '', '', '', '', '', '', '', '', '', '', '', '', '', '', '', '', '', '', '', '', '', '', '', '', '', '', '', '']}\n"
     ]
    }
   ],
   "source": [
    "# Adds the entries in the list as values to the dictionary, ignoring the tab\n",
    "for line in lines[1:]:\n",
    "    values:list = [value.strip() for value in line.split(\"\\t\")]\n",
    "    for column, value in zip(countryInfoDictionary, values):        \n",
    "        countryInfoDictionary[column].append(value)\n",
    "print(countryInfoDictionary)"
   ]
  },
  {
   "cell_type": "code",
   "execution_count": 12,
   "id": "3d9a1f0c-5b37-4fc9-9635-9d2570dbe1b0",
   "metadata": {},
   "outputs": [],
   "source": [
    "# Adds the information from the dictionary to a pandas dataframe\n",
    "info:pd.DataFrame = pd.DataFrame(countryInfoDictionary)"
   ]
  },
  {
   "cell_type": "code",
   "execution_count": 13,
   "id": "0bb1bfad-2e91-4af9-a3b2-1c37df2127d1",
   "metadata": {},
   "outputs": [
    {
     "data": {
      "text/html": [
       "<div>\n",
       "<style scoped>\n",
       "    .dataframe tbody tr th:only-of-type {\n",
       "        vertical-align: middle;\n",
       "    }\n",
       "\n",
       "    .dataframe tbody tr th {\n",
       "        vertical-align: top;\n",
       "    }\n",
       "\n",
       "    .dataframe thead th {\n",
       "        text-align: right;\n",
       "    }\n",
       "</style>\n",
       "<table border=\"1\" class=\"dataframe\">\n",
       "  <thead>\n",
       "    <tr style=\"text-align: right;\">\n",
       "      <th></th>\n",
       "      <th>ISO</th>\n",
       "      <th>ISO3</th>\n",
       "      <th>ISO-Numeric</th>\n",
       "      <th>fips</th>\n",
       "      <th>Country</th>\n",
       "      <th>Capital</th>\n",
       "      <th>Area(in sq km)</th>\n",
       "      <th>Population</th>\n",
       "      <th>Continent</th>\n",
       "      <th>tld</th>\n",
       "      <th>CurrencyCode</th>\n",
       "      <th>CurrencyName</th>\n",
       "      <th>Phone</th>\n",
       "      <th>Postal Code Format</th>\n",
       "      <th>Postal Code Regex</th>\n",
       "      <th>Languages</th>\n",
       "      <th>geonameid</th>\n",
       "      <th>neighbours</th>\n",
       "      <th>EquivalentFipsCode</th>\n",
       "    </tr>\n",
       "  </thead>\n",
       "  <tbody>\n",
       "    <tr>\n",
       "      <th>0</th>\n",
       "      <td>AD</td>\n",
       "      <td>AND</td>\n",
       "      <td>020</td>\n",
       "      <td>AN</td>\n",
       "      <td>Andorra</td>\n",
       "      <td>Andorra la Vella</td>\n",
       "      <td>468</td>\n",
       "      <td>77006</td>\n",
       "      <td>EU</td>\n",
       "      <td>.ad</td>\n",
       "      <td>EUR</td>\n",
       "      <td>Euro</td>\n",
       "      <td>376</td>\n",
       "      <td>AD###</td>\n",
       "      <td>^(?:AD)*(\\d{3})$</td>\n",
       "      <td>ca</td>\n",
       "      <td>3041565</td>\n",
       "      <td>ES,FR</td>\n",
       "      <td></td>\n",
       "    </tr>\n",
       "    <tr>\n",
       "      <th>1</th>\n",
       "      <td>AE</td>\n",
       "      <td>ARE</td>\n",
       "      <td>784</td>\n",
       "      <td>AE</td>\n",
       "      <td>United Arab Emirates</td>\n",
       "      <td>Abu Dhabi</td>\n",
       "      <td>82880</td>\n",
       "      <td>9630959</td>\n",
       "      <td>AS</td>\n",
       "      <td>.ae</td>\n",
       "      <td>AED</td>\n",
       "      <td>Dirham</td>\n",
       "      <td>971</td>\n",
       "      <td></td>\n",
       "      <td></td>\n",
       "      <td>ar-AE,fa,en,hi,ur</td>\n",
       "      <td>290557</td>\n",
       "      <td>SA,OM</td>\n",
       "      <td></td>\n",
       "    </tr>\n",
       "    <tr>\n",
       "      <th>2</th>\n",
       "      <td>AF</td>\n",
       "      <td>AFG</td>\n",
       "      <td>004</td>\n",
       "      <td>AF</td>\n",
       "      <td>Afghanistan</td>\n",
       "      <td>Kabul</td>\n",
       "      <td>647500</td>\n",
       "      <td>37172386</td>\n",
       "      <td>AS</td>\n",
       "      <td>.af</td>\n",
       "      <td>AFN</td>\n",
       "      <td>Afghani</td>\n",
       "      <td>93</td>\n",
       "      <td></td>\n",
       "      <td></td>\n",
       "      <td>fa-AF,ps,uz-AF,tk</td>\n",
       "      <td>1149361</td>\n",
       "      <td>TM,CN,IR,TJ,PK,UZ</td>\n",
       "      <td></td>\n",
       "    </tr>\n",
       "    <tr>\n",
       "      <th>3</th>\n",
       "      <td>AG</td>\n",
       "      <td>ATG</td>\n",
       "      <td>028</td>\n",
       "      <td>AC</td>\n",
       "      <td>Antigua and Barbuda</td>\n",
       "      <td>St. John's</td>\n",
       "      <td>443</td>\n",
       "      <td>96286</td>\n",
       "      <td>NA</td>\n",
       "      <td>.ag</td>\n",
       "      <td>XCD</td>\n",
       "      <td>Dollar</td>\n",
       "      <td>+1-268</td>\n",
       "      <td></td>\n",
       "      <td></td>\n",
       "      <td>en-AG</td>\n",
       "      <td>3576396</td>\n",
       "      <td></td>\n",
       "      <td></td>\n",
       "    </tr>\n",
       "    <tr>\n",
       "      <th>4</th>\n",
       "      <td>AI</td>\n",
       "      <td>AIA</td>\n",
       "      <td>660</td>\n",
       "      <td>AV</td>\n",
       "      <td>Anguilla</td>\n",
       "      <td>The Valley</td>\n",
       "      <td>102</td>\n",
       "      <td>13254</td>\n",
       "      <td>NA</td>\n",
       "      <td>.ai</td>\n",
       "      <td>XCD</td>\n",
       "      <td>Dollar</td>\n",
       "      <td>+1-264</td>\n",
       "      <td></td>\n",
       "      <td></td>\n",
       "      <td>en-AI</td>\n",
       "      <td>3573511</td>\n",
       "      <td></td>\n",
       "      <td></td>\n",
       "    </tr>\n",
       "  </tbody>\n",
       "</table>\n",
       "</div>"
      ],
      "text/plain": [
       "  ISO ISO3 ISO-Numeric fips               Country           Capital  \\\n",
       "0  AD  AND         020   AN               Andorra  Andorra la Vella   \n",
       "1  AE  ARE         784   AE  United Arab Emirates         Abu Dhabi   \n",
       "2  AF  AFG         004   AF           Afghanistan             Kabul   \n",
       "3  AG  ATG         028   AC   Antigua and Barbuda        St. John's   \n",
       "4  AI  AIA         660   AV              Anguilla        The Valley   \n",
       "\n",
       "  Area(in sq km) Population Continent  tld CurrencyCode CurrencyName   Phone  \\\n",
       "0            468      77006        EU  .ad          EUR         Euro     376   \n",
       "1          82880    9630959        AS  .ae          AED       Dirham     971   \n",
       "2         647500   37172386        AS  .af          AFN      Afghani      93   \n",
       "3            443      96286        NA  .ag          XCD       Dollar  +1-268   \n",
       "4            102      13254        NA  .ai          XCD       Dollar  +1-264   \n",
       "\n",
       "  Postal Code Format Postal Code Regex          Languages geonameid  \\\n",
       "0              AD###  ^(?:AD)*(\\d{3})$                 ca   3041565   \n",
       "1                                       ar-AE,fa,en,hi,ur    290557   \n",
       "2                                       fa-AF,ps,uz-AF,tk   1149361   \n",
       "3                                                   en-AG   3576396   \n",
       "4                                                   en-AI   3573511   \n",
       "\n",
       "          neighbours EquivalentFipsCode  \n",
       "0              ES,FR                     \n",
       "1              SA,OM                     \n",
       "2  TM,CN,IR,TJ,PK,UZ                     \n",
       "3                                        \n",
       "4                                        "
      ]
     },
     "execution_count": 13,
     "metadata": {},
     "output_type": "execute_result"
    }
   ],
   "source": [
    "# Prints the first five rows of information in the pandas dataframe\n",
    "info[:5]"
   ]
  },
  {
   "cell_type": "code",
   "execution_count": 14,
   "id": "89536689-dc1d-47f4-8377-e90106f37eb6",
   "metadata": {},
   "outputs": [],
   "source": [
    "# Exports the rows in the pandas data frame to a CSV file\n",
    "output_file:str = \"output.csv\"\n",
    "info.to_csv(output_file, index=False)"
   ]
  },
  {
   "cell_type": "code",
   "execution_count": 15,
   "id": "52632b88-edac-40d2-be83-b2688b1831d8",
   "metadata": {},
   "outputs": [],
   "source": [
    "# Creates a list of OWL triples classifying each country as a country and indicating its ISO2 code\n",
    "namespace:str = \"urn:absolute:CountryInfoOntology#\".strip().replace(\" \", \"\")\n",
    "countryISO2triples:list = []\n",
    "for i in info.index:\n",
    "    iso2code:str = str(info.at[i, \"ISO\"]).strip().replace(\" \", \"\")\n",
    "    country:str = str(info.at[i, \"Country\"]).strip().replace(\" \", \"\")\n",
    "    triple_iso2code:str = f\"\"\"<{namespace}{country}> <{namespace}hasISO2Code> <{namespace}{iso2code}> ;\n",
    "                                a <{namespace}Country> .\\n\"\"\"\n",
    "    countryISO2triples.append(triple_iso2code)"
   ]
  },
  {
   "cell_type": "code",
   "execution_count": 16,
   "id": "ef0ea7bb-de41-4ad0-ad80-159e206aa599",
   "metadata": {},
   "outputs": [
    {
     "name": "stdout",
     "output_type": "stream",
     "text": [
      "<urn:absolute:CountryInfoOntology#Andorra> <urn:absolute:CountryInfoOntology#hasISO2Code> <urn:absolute:CountryInfoOntology#AD> ;\n",
      "                                a <urn:absolute:CountryInfoOntology#Country> .\n",
      " <urn:absolute:CountryInfoOntology#UnitedArabEmirates> <urn:absolute:CountryInfoOntology#hasISO2Code> <urn:absolute:CountryInfoOntology#AE> ;\n",
      "                                a <urn:absolute:CountryInfoOntology#Country> .\n",
      " <urn:absolute:CountryInfoOntology#Afghanistan> <urn:absolute:CountryInfoOntology#hasISO2Code> <urn:absolute:CountryInfoOntology#AF> ;\n",
      "                                a <urn:absolute:CountryInfoOntology#Country> .\n",
      " <urn:absolute:CountryInfoOntology#AntiguaandBarbuda> <urn:absolute:CountryInfoOntology#hasISO2Code> <urn:absolute:CountryInfoOntology#AG> ;\n",
      "                                a <urn:absolute:CountryInfoOntology#Country> .\n",
      " <urn:absolute:CountryInfoOntology#Anguilla> <urn:absolute:CountryInfoOntology#hasISO2Code> <urn:absolute:CountryInfoOntology#AI> ;\n",
      "                                a <urn:absolute:CountryInfoOntology#Country> .\n",
      "\n"
     ]
    }
   ],
   "source": [
    "# Prints the created list of triples\n",
    "print(*countryISO2triples[:5])"
   ]
  },
  {
   "cell_type": "code",
   "execution_count": 17,
   "id": "2aceafb7-cbe3-4b5a-9d43-539fff6d4f26",
   "metadata": {},
   "outputs": [],
   "source": [
    "# Creates a text file with the triples included\n",
    "with open(\"countryISO2triples.txt\", \"w\") as countryISO2triples_file:\n",
    "    countryISO2triples_file.writelines(countryISO2triples)"
   ]
  },
  {
   "cell_type": "code",
   "execution_count": 18,
   "id": "7ae888e2-23bf-4ca5-8673-6f76976e34db",
   "metadata": {},
   "outputs": [
    {
     "name": "stdout",
     "output_type": "stream",
     "text": [
      "<urn:absolute:CountryInfoOntology#Andorra> <urn:absolute:CountryInfoOntology#hasISO3Code> <urn:absolute:CountryInfoOntology#AND> .\n",
      " <urn:absolute:CountryInfoOntology#UnitedArabEmirates> <urn:absolute:CountryInfoOntology#hasISO3Code> <urn:absolute:CountryInfoOntology#ARE> .\n",
      " <urn:absolute:CountryInfoOntology#Afghanistan> <urn:absolute:CountryInfoOntology#hasISO3Code> <urn:absolute:CountryInfoOntology#AFG> .\n",
      " <urn:absolute:CountryInfoOntology#AntiguaandBarbuda> <urn:absolute:CountryInfoOntology#hasISO3Code> <urn:absolute:CountryInfoOntology#ATG> .\n",
      " <urn:absolute:CountryInfoOntology#Anguilla> <urn:absolute:CountryInfoOntology#hasISO3Code> <urn:absolute:CountryInfoOntology#AIA> .\n",
      "\n"
     ]
    }
   ],
   "source": [
    "# Creates another list of OWL triples classifying each country by its ISO3 code\n",
    "ISO3triples:list = []\n",
    "for i in info.index:\n",
    "    iso3code:str = str(info.at[i, \"ISO3\"]).strip().replace(\" \", \"\")\n",
    "    country:str = str(info.at[i, \"Country\"]).strip().replace(\" \", \"\")\n",
    "    triple_iso3code:str = f\"\"\"<{namespace}{country}> <{namespace}hasISO3Code> <{namespace}{iso3code}> .\\n\"\"\"\n",
    "    ISO3triples.append(triple_iso3code)\n",
    "print(*ISO3triples[:5])"
   ]
  },
  {
   "cell_type": "code",
   "execution_count": 19,
   "id": "e804cb98-78cb-43fa-b8b5-c39db0da2fc3",
   "metadata": {},
   "outputs": [],
   "source": [
    "# Creates a text file with the new triples included\n",
    "with open(\"ISO3triples.txt\", \"w\") as ISO3triples_file:\n",
    "    ISO3triples_file.writelines(ISO3triples)"
   ]
  },
  {
   "cell_type": "code",
   "execution_count": 20,
   "id": "d9d5ce99-b79f-434e-9727-e4eb05c2554a",
   "metadata": {},
   "outputs": [
    {
     "name": "stdout",
     "output_type": "stream",
     "text": [
      "<urn:absolute:CountryInfoOntology#Andorra> <urn:absolute:CountryInfoOntology#hasCapital> <urn:absolute:CountryInfoOntology#AndorralaVella> .\n",
      " <urn:absolute:CountryInfoOntology#UnitedArabEmirates> <urn:absolute:CountryInfoOntology#hasCapital> <urn:absolute:CountryInfoOntology#AbuDhabi> .\n",
      " <urn:absolute:CountryInfoOntology#Afghanistan> <urn:absolute:CountryInfoOntology#hasCapital> <urn:absolute:CountryInfoOntology#Kabul> .\n",
      " <urn:absolute:CountryInfoOntology#AntiguaandBarbuda> <urn:absolute:CountryInfoOntology#hasCapital> <urn:absolute:CountryInfoOntology#St.John's> .\n",
      " <urn:absolute:CountryInfoOntology#Anguilla> <urn:absolute:CountryInfoOntology#hasCapital> <urn:absolute:CountryInfoOntology#TheValley> .\n",
      "\n"
     ]
    }
   ],
   "source": [
    "# Creates another list of OWL triples classifying each country by its capital\n",
    "countrycapitaltriples:list = []\n",
    "for i in info.index:\n",
    "    capital:str = str(info.at[i, \"Capital\"]).strip().replace(\" \", \"\")\n",
    "    country:str = str(info.at[i, \"Country\"]).strip().replace(\" \", \"\")\n",
    "    triple_capital:str = f\"\"\"<{namespace}{country}> <{namespace}hasCapital> <{namespace}{capital}> .\\n\"\"\"\n",
    "    countrycapitaltriples.append(triple_capital)\n",
    "print(*countrycapitaltriples[:5])"
   ]
  },
  {
   "cell_type": "code",
   "execution_count": 21,
   "id": "6ee78666-dff7-4429-8d6c-8e7b000e78d3",
   "metadata": {},
   "outputs": [],
   "source": [
    "# Creates a text file with these triples included\n",
    "with open(\"countrycapitaltriples.txt\", \"w\") as countrycapitaltriples_file:\n",
    "    countrycapitaltriples_file.writelines(countrycapitaltriples)"
   ]
  },
  {
   "cell_type": "code",
   "execution_count": 22,
   "id": "1a4f6161-debc-4691-9226-e1a58dd2752f",
   "metadata": {},
   "outputs": [
    {
     "name": "stdout",
     "output_type": "stream",
     "text": [
      "<urn:absolute:CountryInfoOntology#Andorra> <urn:absolute:CountryInfoOntology#hasContinent> <urn:absolute:CountryInfoOntology#EU> .\n",
      " <urn:absolute:CountryInfoOntology#UnitedArabEmirates> <urn:absolute:CountryInfoOntology#hasContinent> <urn:absolute:CountryInfoOntology#AS> .\n",
      " <urn:absolute:CountryInfoOntology#Afghanistan> <urn:absolute:CountryInfoOntology#hasContinent> <urn:absolute:CountryInfoOntology#AS> .\n",
      " <urn:absolute:CountryInfoOntology#AntiguaandBarbuda> <urn:absolute:CountryInfoOntology#hasContinent> <urn:absolute:CountryInfoOntology#NA> .\n",
      " <urn:absolute:CountryInfoOntology#Anguilla> <urn:absolute:CountryInfoOntology#hasContinent> <urn:absolute:CountryInfoOntology#NA> .\n",
      "\n"
     ]
    }
   ],
   "source": [
    "# Creates another list of OWL triples classifying each country by its continent\n",
    "countrycontinenttriples:list = []\n",
    "for i in info.index:\n",
    "    country:str = str(info.at[i, \"Country\"]).strip().replace(\" \", \"\")\n",
    "    continent:str = str(info.at[i, \"Continent\"]).strip().replace(\" \", \"\")\n",
    "    triple_continent:str = f\"\"\"<{namespace}{country}> <{namespace}hasContinent> <{namespace}{continent}> .\\n\"\"\"\n",
    "    countrycontinenttriples.append(triple_continent)\n",
    "print(*countrycontinenttriples[:5])"
   ]
  },
  {
   "cell_type": "code",
   "execution_count": 23,
   "id": "1c41d3e8-d3e4-48f2-801b-b664f53f59e8",
   "metadata": {},
   "outputs": [],
   "source": [
    "# Creates a text file with these triples included\n",
    "with open(\"countrycontinenttriples.txt\", \"w\") as countrycontinenttriples_file:\n",
    "    countrycontinenttriples_file.writelines(countrycontinenttriples)"
   ]
  },
  {
   "cell_type": "code",
   "execution_count": 24,
   "id": "6afd9860-7517-403e-bf79-24e40d88561b",
   "metadata": {},
   "outputs": [
    {
     "name": "stdout",
     "output_type": "stream",
     "text": [
      "<urn:absolute:CountryInfoOntology#Andorra> <urn:absolute:CountryInfoOntology#hasCurrency> <urn:absolute:CountryInfoOntology#Euro-EUR> .\n",
      " <urn:absolute:CountryInfoOntology#UnitedArabEmirates> <urn:absolute:CountryInfoOntology#hasCurrency> <urn:absolute:CountryInfoOntology#Dirham-AED> .\n",
      " <urn:absolute:CountryInfoOntology#Afghanistan> <urn:absolute:CountryInfoOntology#hasCurrency> <urn:absolute:CountryInfoOntology#Afghani-AFN> .\n",
      " <urn:absolute:CountryInfoOntology#AntiguaandBarbuda> <urn:absolute:CountryInfoOntology#hasCurrency> <urn:absolute:CountryInfoOntology#Dollar-XCD> .\n",
      " <urn:absolute:CountryInfoOntology#Anguilla> <urn:absolute:CountryInfoOntology#hasCurrency> <urn:absolute:CountryInfoOntology#Dollar-XCD> .\n",
      "\n"
     ]
    }
   ],
   "source": [
    "# Creates another list of OWL triples classifying each country by its currency and classifying each currency as a currency\n",
    "triplescurrency:list = []\n",
    "for i in info.index:\n",
    "    country:str = str(info.at[i, \"Country\"]).strip().replace(\" \", \"\")\n",
    "    currency = str(info.at[i, \"CurrencyName\"]).strip().replace(\" \", \"\") + \"-\" + str(info.at[i, \"CurrencyCode\"]).strip().replace(\" \", \"\")\n",
    "    triple_currency:str = f\"\"\"<{namespace}{country}> <{namespace}hasCurrency> <{namespace}{currency}> .\\n\"\"\"\n",
    "    triplescurrency.append(triple_currency)\n",
    "for i in info.index:\n",
    "    currency = str(info.at[i, \"CurrencyName\"]).strip().replace(\" \", \"\") + \"-\" + str(info.at[i, \"CurrencyCode\"]).strip().replace(\" \", \"\")\n",
    "    triple2_currency:str = f\"\"\"<{namespace}{currency}> a <{namespace}Currency> .\\n\"\"\"\n",
    "    triplescurrency.append(triple2_currency)\n",
    "print(*triplescurrency[:5])"
   ]
  },
  {
   "cell_type": "code",
   "execution_count": 25,
   "id": "69f93297-d577-4604-a372-fa430416da73",
   "metadata": {},
   "outputs": [],
   "source": [
    "# Creates a text file with these triples included\n",
    "with open(\"triplescurrency.txt\", \"w\") as triplescurrency_file:\n",
    "    triplescurrency_file.writelines(triplescurrency)"
   ]
  },
  {
   "cell_type": "code",
   "execution_count": 26,
   "id": "a6534e13-9f40-4966-989f-d265b64ddb72",
   "metadata": {},
   "outputs": [
    {
     "name": "stdout",
     "output_type": "stream",
     "text": [
      "<urn:absolute:CountryInfoOntology#Andorra> <urn:absolute:CountryInfoOntology#HasAreaSqKm> 468 .\n",
      " <urn:absolute:CountryInfoOntology#UnitedArabEmirates> <urn:absolute:CountryInfoOntology#HasAreaSqKm> 82880 .\n",
      " <urn:absolute:CountryInfoOntology#Afghanistan> <urn:absolute:CountryInfoOntology#HasAreaSqKm> 647500 .\n",
      " <urn:absolute:CountryInfoOntology#AntiguaandBarbuda> <urn:absolute:CountryInfoOntology#HasAreaSqKm> 443 .\n",
      " <urn:absolute:CountryInfoOntology#Anguilla> <urn:absolute:CountryInfoOntology#HasAreaSqKm> 102 .\n",
      "\n"
     ]
    }
   ],
   "source": [
    "# Creates another list of OWL triples classifying each country by its area in sq km\n",
    "triplesarea:list = []\n",
    "for i in info.index:\n",
    "    country:str = str(info.at[i, \"Country\"]).strip().replace(\" \", \"\")\n",
    "    area:str = str(info.at[i, \"Area(in sq km)\"]).strip().replace(\" \", \"\")\n",
    "    triple_area:str = f\"\"\"<{namespace}{country}> <{namespace}HasAreaSqKm> {area} .\\n\"\"\"\n",
    "    triplesarea.append(triple_area)\n",
    "print(*triplesarea[:5])"
   ]
  },
  {
   "cell_type": "code",
   "execution_count": 27,
   "id": "097d716d-85fa-4f6c-a54b-61ee58eb7233",
   "metadata": {},
   "outputs": [],
   "source": [
    "# Creates a text file with these triples included\n",
    "with open(\"triplesarea.txt\", \"w\") as triplesarea_file:\n",
    "    triplesarea_file.writelines(triplesarea)"
   ]
  },
  {
   "cell_type": "code",
   "execution_count": 28,
   "id": "4312f9c9-d604-4f10-aa1a-271f29dcc894",
   "metadata": {},
   "outputs": [
    {
     "name": "stdout",
     "output_type": "stream",
     "text": [
      "<urn:absolute:CountryInfoOntology#Andorra> <urn:absolute:CountryInfoOntology#HasPopulation> 77006 .\n",
      " <urn:absolute:CountryInfoOntology#UnitedArabEmirates> <urn:absolute:CountryInfoOntology#HasPopulation> 9630959 .\n",
      " <urn:absolute:CountryInfoOntology#Afghanistan> <urn:absolute:CountryInfoOntology#HasPopulation> 37172386 .\n",
      " <urn:absolute:CountryInfoOntology#AntiguaandBarbuda> <urn:absolute:CountryInfoOntology#HasPopulation> 96286 .\n",
      " <urn:absolute:CountryInfoOntology#Anguilla> <urn:absolute:CountryInfoOntology#HasPopulation> 13254 .\n",
      "\n"
     ]
    }
   ],
   "source": [
    "# Creates another list of OWL triples classifying each country by its population\n",
    "triplespopulation:list = []\n",
    "for i in info.index:\n",
    "    country:str = str(info.at[i, \"Country\"]).strip().replace(\" \", \"\")\n",
    "    population:str = str(info.at[i, \"Population\"]).strip().replace(\" \", \"\")\n",
    "    triple_population:str = f\"\"\"<{namespace}{country}> <{namespace}HasPopulation> {population} .\\n\"\"\"\n",
    "    triplespopulation.append(triple_population)\n",
    "print(*triplespopulation[:5])"
   ]
  },
  {
   "cell_type": "code",
   "execution_count": 29,
   "id": "5d28ea90-5644-4dca-9425-be9a4be06880",
   "metadata": {},
   "outputs": [],
   "source": [
    "# Creates a text file with these triples included\n",
    "with open(\"triplespopulation.txt\", \"w\") as triplespopulation_file:\n",
    "    triplespopulation_file.writelines(triplespopulation)"
   ]
  },
  {
   "cell_type": "code",
   "execution_count": 30,
   "id": "4f78166f-2db0-4e6d-9131-870d758685e1",
   "metadata": {},
   "outputs": [
    {
     "name": "stdout",
     "output_type": "stream",
     "text": [
      "<urn:absolute:CountryInfoOntology#AndorralaVella> a <urn:absolute:CountryInfoOntology#Capital> .\n",
      " <urn:absolute:CountryInfoOntology#AbuDhabi> a <urn:absolute:CountryInfoOntology#Capital> .\n",
      " <urn:absolute:CountryInfoOntology#Kabul> a <urn:absolute:CountryInfoOntology#Capital> .\n",
      " <urn:absolute:CountryInfoOntology#St.John's> a <urn:absolute:CountryInfoOntology#Capital> .\n",
      " <urn:absolute:CountryInfoOntology#TheValley> a <urn:absolute:CountryInfoOntology#Capital> .\n",
      "\n"
     ]
    }
   ],
   "source": [
    "# Creates another list of OWL triples categorizing capitals, continents, iso2 codes, and iso3 codes by their respective classes\n",
    "triplesclassification:list = []\n",
    "for i in info.index:\n",
    "    capital:str = str(info.at[i, \"Capital\"]).strip().replace(\" \", \"\")\n",
    "    triple_capitalclass:str = f\"\"\"<{namespace}{capital}> a <{namespace}Capital> .\\n\"\"\"\n",
    "    triplesclassification.append(triple_capitalclass)\n",
    "for i in info.index:\n",
    "    continent:str = str(info.at[i, \"Continent\"]).strip().replace(\" \", \"\")\n",
    "    triple_continentclass:str = f\"\"\"<{namespace}{continent}> a <{namespace}Continent> .\\n\"\"\"\n",
    "    triplesclassification.append(triple_continentclass)\n",
    "for i in info.index:\n",
    "    iso2:str = str(info.at[i, \"ISO\"]).strip().replace(\" \", \"\")\n",
    "    triple_iso2class:str = f\"\"\"<{namespace}{iso2}> a <{namespace}ISO2LetterCode> .\\n\"\"\"\n",
    "    triplesclassification.append(triple_iso2class)\n",
    "for i in info.index:\n",
    "    iso3:str = str(info.at[i, \"ISO3\"]).strip().replace(\" \", \"\")\n",
    "    triple_iso3class:str = f\"\"\"<{namespace}{iso3}> a <{namespace}ISO3LetterCode> .\\n\"\"\"\n",
    "    triplesclassification.append(triple_iso3class)\n",
    "print(*triplesclassification[:5])"
   ]
  },
  {
   "cell_type": "code",
   "execution_count": 31,
   "id": "b2ea82bb-2ffa-4761-8326-6917d87af827",
   "metadata": {},
   "outputs": [],
   "source": [
    "# Creates a text file with these triples included\n",
    "with open(\"triplesclassification.txt\", \"w\") as triplesclassification_file:\n",
    "    triplesclassification_file.writelines(triplesclassification)"
   ]
  },
  {
   "cell_type": "code",
   "execution_count": null,
   "id": "819f0fd8-4ad6-4dc6-b925-f35f8e60c793",
   "metadata": {},
   "outputs": [],
   "source": []
  },
  {
   "cell_type": "code",
   "execution_count": null,
   "id": "2e093d0b-785a-420e-b62f-c680e6b9b832",
   "metadata": {},
   "outputs": [],
   "source": []
  },
  {
   "cell_type": "code",
   "execution_count": 32,
   "id": "616e7592-d22f-41fd-8d1a-5ff4866481d8",
   "metadata": {},
   "outputs": [
    {
     "name": "stdout",
     "output_type": "stream",
     "text": [
      "{'AD': 'Andorra', 'AE': 'United Arab Emirates', 'AF': 'Afghanistan', 'AG': 'Antigua and Barbuda', 'AI': 'Anguilla', 'AL': 'Albania', 'AM': 'Armenia', 'AO': 'Angola', 'AQ': 'Antarctica', 'AR': 'Argentina', 'AS': 'American Samoa', 'AT': 'Austria', 'AU': 'Australia', 'AW': 'Aruba', 'AX': 'Aland Islands', 'AZ': 'Azerbaijan', 'BA': 'Bosnia and Herzegovina', 'BB': 'Barbados', 'BD': 'Bangladesh', 'BE': 'Belgium', 'BF': 'Burkina Faso', 'BG': 'Bulgaria', 'BH': 'Bahrain', 'BI': 'Burundi', 'BJ': 'Benin', 'BL': 'Saint Barthelemy', 'BM': 'Bermuda', 'BN': 'Brunei', 'BO': 'Bolivia', 'BQ': 'Bonaire, Saint Eustatius and Saba', 'BR': 'Brazil', 'BS': 'Bahamas', 'BT': 'Bhutan', 'BV': 'Bouvet Island', 'BW': 'Botswana', 'BY': 'Belarus', 'BZ': 'Belize', 'CA': 'Canada', 'CC': 'Cocos Islands', 'CD': 'Democratic Republic of the Congo', 'CF': 'Central African Republic', 'CG': 'Republic of the Congo', 'CH': 'Switzerland', 'CI': 'Ivory Coast', 'CK': 'Cook Islands', 'CL': 'Chile', 'CM': 'Cameroon', 'CN': 'China', 'CO': 'Colombia', 'CR': 'Costa Rica', 'CU': 'Cuba', 'CV': 'Cabo Verde', 'CW': 'Curacao', 'CX': 'Christmas Island', 'CY': 'Cyprus', 'CZ': 'Czechia', 'DE': 'Germany', 'DJ': 'Djibouti', 'DK': 'Denmark', 'DM': 'Dominica', 'DO': 'Dominican Republic', 'DZ': 'Algeria', 'EC': 'Ecuador', 'EE': 'Estonia', 'EG': 'Egypt', 'EH': 'Western Sahara', 'ER': 'Eritrea', 'ES': 'Spain', 'ET': 'Ethiopia', 'FI': 'Finland', 'FJ': 'Fiji', 'FK': 'Falkland Islands', 'FM': 'Micronesia', 'FO': 'Faroe Islands', 'FR': 'France', 'GA': 'Gabon', 'GB': 'United Kingdom', 'GD': 'Grenada', 'GE': 'Georgia', 'GF': 'French Guiana', 'GG': 'Guernsey', 'GH': 'Ghana', 'GI': 'Gibraltar', 'GL': 'Greenland', 'GM': 'Gambia', 'GN': 'Guinea', 'GP': 'Guadeloupe', 'GQ': 'Equatorial Guinea', 'GR': 'Greece', 'GS': 'South Georgia and the South Sandwich Islands', 'GT': 'Guatemala', 'GU': 'Guam', 'GW': 'Guinea-Bissau', 'GY': 'Guyana', 'HK': 'Hong Kong', 'HM': 'Heard Island and McDonald Islands', 'HN': 'Honduras', 'HR': 'Croatia', 'HT': 'Haiti', 'HU': 'Hungary', 'ID': 'Indonesia', 'IE': 'Ireland', 'IL': 'Israel', 'IM': 'Isle of Man', 'IN': 'India', 'IO': 'British Indian Ocean Territory', 'IQ': 'Iraq', 'IR': 'Iran', 'IS': 'Iceland', 'IT': 'Italy', 'JE': 'Jersey', 'JM': 'Jamaica', 'JO': 'Jordan', 'JP': 'Japan', 'KE': 'Kenya', 'KG': 'Kyrgyzstan', 'KH': 'Cambodia', 'KI': 'Kiribati', 'KM': 'Comoros', 'KN': 'Saint Kitts and Nevis', 'KP': 'North Korea', 'KR': 'South Korea', 'XK': 'Kosovo', 'KW': 'Kuwait', 'KY': 'Cayman Islands', 'KZ': 'Kazakhstan', 'LA': 'Laos', 'LB': 'Lebanon', 'LC': 'Saint Lucia', 'LI': 'Liechtenstein', 'LK': 'Sri Lanka', 'LR': 'Liberia', 'LS': 'Lesotho', 'LT': 'Lithuania', 'LU': 'Luxembourg', 'LV': 'Latvia', 'LY': 'Libya', 'MA': 'Morocco', 'MC': 'Monaco', 'MD': 'Moldova', 'ME': 'Montenegro', 'MF': 'Saint Martin', 'MG': 'Madagascar', 'MH': 'Marshall Islands', 'MK': 'North Macedonia', 'ML': 'Mali', 'MM': 'Myanmar', 'MN': 'Mongolia', 'MO': 'Macao', 'MP': 'Northern Mariana Islands', 'MQ': 'Martinique', 'MR': 'Mauritania', 'MS': 'Montserrat', 'MT': 'Malta', 'MU': 'Mauritius', 'MV': 'Maldives', 'MW': 'Malawi', 'MX': 'Mexico', 'MY': 'Malaysia', 'MZ': 'Mozambique', 'NA': 'Namibia', 'NC': 'New Caledonia', 'NE': 'Niger', 'NF': 'Norfolk Island', 'NG': 'Nigeria', 'NI': 'Nicaragua', 'NL': 'The Netherlands', 'NO': 'Norway', 'NP': 'Nepal', 'NR': 'Nauru', 'NU': 'Niue', 'NZ': 'New Zealand', 'OM': 'Oman', 'PA': 'Panama', 'PE': 'Peru', 'PF': 'French Polynesia', 'PG': 'Papua New Guinea', 'PH': 'Philippines', 'PK': 'Pakistan', 'PL': 'Poland', 'PM': 'Saint Pierre and Miquelon', 'PN': 'Pitcairn', 'PR': 'Puerto Rico', 'PS': 'Palestinian Territory', 'PT': 'Portugal', 'PW': 'Palau', 'PY': 'Paraguay', 'QA': 'Qatar', 'RE': 'Reunion', 'RO': 'Romania', 'RS': 'Serbia', 'RU': 'Russia', 'RW': 'Rwanda', 'SA': 'Saudi Arabia', 'SB': 'Solomon Islands', 'SC': 'Seychelles', 'SD': 'Sudan', 'SS': 'South Sudan', 'SE': 'Sweden', 'SG': 'Singapore', 'SH': 'Saint Helena', 'SI': 'Slovenia', 'SJ': 'Svalbard and Jan Mayen', 'SK': 'Slovakia', 'SL': 'Sierra Leone', 'SM': 'San Marino', 'SN': 'Senegal', 'SO': 'Somalia', 'SR': 'Suriname', 'ST': 'Sao Tome and Principe', 'SV': 'El Salvador', 'SX': 'Sint Maarten', 'SY': 'Syria', 'SZ': 'Eswatini', 'TC': 'Turks and Caicos Islands', 'TD': 'Chad', 'TF': 'French Southern Territories', 'TG': 'Togo', 'TH': 'Thailand', 'TJ': 'Tajikistan', 'TK': 'Tokelau', 'TL': 'Timor Leste', 'TM': 'Turkmenistan', 'TN': 'Tunisia', 'TO': 'Tonga', 'TR': 'Turkey', 'TT': 'Trinidad and Tobago', 'TV': 'Tuvalu', 'TW': 'Taiwan', 'TZ': 'Tanzania', 'UA': 'Ukraine', 'UG': 'Uganda', 'UM': 'United States Minor Outlying Islands', 'US': 'United States', 'UY': 'Uruguay', 'UZ': 'Uzbekistan', 'VA': 'Vatican', 'VC': 'Saint Vincent and the Grenadines', 'VE': 'Venezuela', 'VG': 'British Virgin Islands', 'VI': 'U.S. Virgin Islands', 'VN': 'Vietnam', 'VU': 'Vanuatu', 'WF': 'Wallis and Futuna', 'WS': 'Samoa', 'YE': 'Yemen', 'YT': 'Mayotte', 'ZA': 'South Africa', 'ZM': 'Zambia', 'ZW': 'Zimbabwe', 'CS': 'Serbia and Montenegro', 'AN': 'Netherlands Antilles'}\n"
     ]
    }
   ],
   "source": [
    "# Creates a dictionary relating ISO2 codes to countries\n",
    "iso_to_country = dict(zip(info['ISO'], info['Country']))\n",
    "print(iso_to_country)"
   ]
  },
  {
   "cell_type": "code",
   "execution_count": 33,
   "id": "48867516-427a-466e-9215-36335305f540",
   "metadata": {},
   "outputs": [
    {
     "name": "stdout",
     "output_type": "stream",
     "text": [
      "<urn:absolute:CountryInfoOntology#Andorra> <urn:absolute:CountryInfoOntology#hasNeighbor> <urn:absolute:CountryInfoOntology#Spain> .\n",
      " <urn:absolute:CountryInfoOntology#Andorra> <urn:absolute:CountryInfoOntology#hasNeighbor> <urn:absolute:CountryInfoOntology#France> .\n",
      " <urn:absolute:CountryInfoOntology#UnitedArabEmirates> <urn:absolute:CountryInfoOntology#hasNeighbor> <urn:absolute:CountryInfoOntology#SaudiArabia> .\n",
      " <urn:absolute:CountryInfoOntology#UnitedArabEmirates> <urn:absolute:CountryInfoOntology#hasNeighbor> <urn:absolute:CountryInfoOntology#Oman> .\n",
      " <urn:absolute:CountryInfoOntology#Afghanistan> <urn:absolute:CountryInfoOntology#hasNeighbor> <urn:absolute:CountryInfoOntology#Turkmenistan> .\n",
      "\n"
     ]
    }
   ],
   "source": [
    "# Splits the ISO2 codes mentioned in the neighbours column into a list, in a for loop. Then creates OWL triples for each country,\n",
    "# linking it to its neighbors. The dictionary created above is used to call the country value for each ISO2 code.\n",
    "triplesneighbors:list = []\n",
    "for i in info.index:\n",
    "    country:str = str(info.at[i, \"Country\"]).strip().replace(\" \", \"\")\n",
    "    codes = str(info.at[i, \"neighbours\"]).split(',')\n",
    "    for j in codes:\n",
    "        code1:str = iso_to_country.get(j, \" \")\n",
    "        code2:str = code1.strip().replace(\" \", \"\")\n",
    "        triple_neighbor:str = f\"\"\"<{namespace}{country}> <{namespace}hasNeighbor> <{namespace}{code2}> .\\n\"\"\"\n",
    "        triplesneighbors.append(triple_neighbor)\n",
    "print(*triplesneighbors[:5])"
   ]
  },
  {
   "cell_type": "code",
   "execution_count": 34,
   "id": "ab0a716d-8b0f-4294-9950-6f2be4c6e5c6",
   "metadata": {},
   "outputs": [],
   "source": [
    "# Creates a text file with these triples included\n",
    "with open(\"triplesneighbors.txt\", \"w\") as triplesneighbors_file:\n",
    "    triplesneighbors_file.writelines(triplesneighbors)"
   ]
  },
  {
   "cell_type": "code",
   "execution_count": null,
   "id": "ac771c4b-71d9-47e6-ae72-e27a87771a2b",
   "metadata": {},
   "outputs": [],
   "source": []
  }
 ],
 "metadata": {
  "kernelspec": {
   "display_name": "Python 3 (ipykernel)",
   "language": "python",
   "name": "python3"
  },
  "language_info": {
   "codemirror_mode": {
    "name": "ipython",
    "version": 3
   },
   "file_extension": ".py",
   "mimetype": "text/x-python",
   "name": "python",
   "nbconvert_exporter": "python",
   "pygments_lexer": "ipython3",
   "version": "3.11.5"
  }
 },
 "nbformat": 4,
 "nbformat_minor": 5
}
